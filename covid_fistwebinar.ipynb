{
 "cells": [
  {
   "cell_type": "code",
   "execution_count": 33,
   "metadata": {},
   "outputs": [],
   "source": [
    "import requests\n",
    "from bs4 import BeautifulSoup\n",
    "import pandas as pd\n",
    "import numpy as np"
   ]
  },
  {
   "cell_type": "code",
   "execution_count": 34,
   "metadata": {},
   "outputs": [],
   "source": [
    "url=\"https://www.worldometers.info/coronavirus/\""
   ]
  },
  {
   "cell_type": "code",
   "execution_count": 35,
   "metadata": {},
   "outputs": [
    {
     "name": "stdout",
     "output_type": "stream",
     "text": [
      "<Response [200]>\n"
     ]
    }
   ],
   "source": [
    "response=requests.get(url)\n",
    "print(response)"
   ]
  },
  {
   "cell_type": "code",
   "execution_count": 36,
   "metadata": {},
   "outputs": [],
   "source": [
    "#create wapper\n",
    "soup=BeautifulSoup(response.content,\"html.parser\")"
   ]
  },
  {
   "cell_type": "code",
   "execution_count": 37,
   "metadata": {},
   "outputs": [
    {
     "data": {
      "text/plain": [
       "<title>Coronavirus Update (Live): 4,115,626 Cases and 280,594 Deaths from COVID-19 Virus Pandemic - Worldometer</title>"
      ]
     },
     "execution_count": 37,
     "metadata": {},
     "output_type": "execute_result"
    }
   ],
   "source": [
    "soup.title"
   ]
  },
  {
   "cell_type": "code",
   "execution_count": 38,
   "metadata": {},
   "outputs": [
    {
     "name": "stdout",
     "output_type": "stream",
     "text": [
      "\n",
      "2,388,707\n",
      "Currently Infected Patients\n",
      "\n",
      "\n",
      "2,341,039 (98%)\n",
      "in Mild Condition\n",
      "\n",
      "47,668 (2%)\n",
      "Serious or Critical\n",
      "\n",
      "\n",
      "Show Graph\n",
      "\n"
     ]
    }
   ],
   "source": [
    "divs=soup.find(\"div\",class_=\"panel_flip\")\n",
    "for i in divs.find_all(\"div\",class_=\"panel_front\"):\n",
    "    print(i.text)"
   ]
  },
  {
   "cell_type": "code",
   "execution_count": 39,
   "metadata": {},
   "outputs": [],
   "source": [
    "coronatable=soup.find_all(\"table\")"
   ]
  },
  {
   "cell_type": "code",
   "execution_count": 40,
   "metadata": {},
   "outputs": [
    {
     "data": {
      "text/plain": [
       "2"
      ]
     },
     "execution_count": 40,
     "metadata": {},
     "output_type": "execute_result"
    }
   ],
   "source": [
    "len(coronatable)"
   ]
  },
  {
   "cell_type": "code",
   "execution_count": 41,
   "metadata": {},
   "outputs": [],
   "source": [
    "co=coronatable[0]"
   ]
  },
  {
   "cell_type": "code",
   "execution_count": 42,
   "metadata": {
    "scrolled": true
   },
   "outputs": [
    {
     "name": "stdout",
     "output_type": "stream",
     "text": [
      "['USA', 'Spain', 'Italy', 'UK', 'Russia', 'France', 'Germany', 'Brazil', 'Turkey', 'Iran', 'Canada', 'Peru', 'India', 'Belgium', 'Netherlands', 'Saudi Arabia', 'Mexico', 'Switzerland', 'Pakistan', 'Ecuador', 'Portugal', 'Chile', 'Sweden', 'Singapore', 'Ireland', 'Belarus', 'Qatar', 'UAE', 'Israel', 'Austria', 'Poland', 'Japan', 'Ukraine', 'Romania', 'Indonesia', 'Bangladesh', 'S. Korea', 'Philippines', 'Colombia', 'Denmark', 'Serbia', 'Dominican Republic', 'South Africa', 'Egypt', 'Panama', 'Norway', 'Czechia', 'Kuwait', 'Australia', 'Malaysia', 'Morocco', 'Finland', 'Argentina', 'Algeria', 'Kazakhstan', 'Moldova', 'Bahrain', 'Ghana', 'Nigeria', 'Afghanistan', 'Luxembourg', 'Oman', 'Armenia', 'Hungary', 'Thailand', 'Greece', 'Iraq', 'Bolivia', 'Azerbaijan', 'Uzbekistan', 'Cameroon', 'Croatia', 'Bosnia and Herzegovina', 'Guinea', 'Bulgaria', 'Honduras', 'Iceland', 'Cuba', 'Estonia', 'Ivory Coast', 'Senegal', 'North Macedonia', 'New Zealand', 'Slovakia', 'Slovenia', 'Lithuania', 'Djibouti', 'Sudan', 'Hong Kong', 'Tunisia', 'Kyrgyzstan', 'Somalia', 'Mayotte', 'Guatemala', 'Latvia', 'DRC', 'Cyprus', 'El Salvador', 'Albania', 'Sri Lanka', 'Niger', 'Lebanon', 'Maldives', 'Costa Rica', 'Andorra', 'Burkina Faso', 'Diamond Princess', 'Uruguay', 'Mali', 'Paraguay', 'Gabon', 'Kenya', 'Guinea-Bissau', 'San Marino', 'Georgia', 'Tajikistan', 'Channel Islands', 'Jordan', 'Tanzania', 'Jamaica', 'Malta', 'Taiwan', 'Equatorial Guinea', 'Réunion', 'Venezuela', 'Palestine', 'Mauritius', 'Isle of Man', 'Montenegro', 'Chad', 'Sierra Leone', 'Vietnam', 'Benin', 'Rwanda', 'Congo', 'Zambia', 'Cabo Verde', 'Ethiopia', 'Sao Tome and Principe', 'Liberia', 'Madagascar', 'Faeroe Islands', 'Martinique', 'Myanmar', 'Eswatini', 'Guadeloupe', 'Togo', 'Haiti', 'Gibraltar', 'French Guiana', 'CAR', 'Brunei', 'Cambodia', 'South Sudan', 'Bermuda', 'Trinidad and Tobago', 'Uganda', 'Nepal', 'Aruba', 'Guyana', 'Monaco', 'Bahamas', 'Mozambique', 'Barbados', 'Liechtenstein', 'Cayman Islands', 'Sint Maarten', 'Libya', 'French Polynesia', 'Malawi', 'Syria', 'Macao', 'Angola', 'Mongolia', 'Saint Martin', 'Eritrea', 'Zimbabwe', 'Yemen', 'Antigua and Barbuda', 'Timor-Leste', 'Botswana', 'Grenada', 'Gambia', 'Laos', 'Belize', 'Fiji', 'New Caledonia', 'Saint Lucia', 'St. Vincent Grenadines', 'Nicaragua', 'Curaçao', 'Dominica', 'Namibia', 'Burundi', 'Saint Kitts and Nevis', 'Falkland Islands', 'Turks and Caicos', 'Vatican City', 'Comoros', 'Montserrat', 'Greenland', 'Seychelles', 'Suriname', 'MS Zaandam', 'Mauritania', 'Papua New Guinea', 'British Virgin Islands', 'Bhutan', 'Caribbean Netherlands', 'St. Barth', 'Western Sahara']\n",
      "['+9', '', '', '', '+11,012', '', '', '', '', '', '', '', '+131', '', '', '', '+1,938', '', '+729', '', '', '', '', '+876', '', '', '', '', '+4', '', '+170', '', '+522', '', '+387', '', '+34', '+184', '', '', '', '', '', '', '+212', '', '', '', '+10', '+67', '', '', '', '', '+81', '', '', '', '', '', '', '+175', '+138', '+50', '+5', '', '', '+171', '', '+38', '', '', '', '', '+34', '+59', '', '', '+6', '', '', '', '+2', '+2', '', '', '', '', '', '', '+71', '', '', '+67', '+9', '', '', '+105', '', '', '', '', '', '', '', '', '', '', '', '', '', '', '', '', '+9', '', '', '', '', '+8', '', '', '', '', '', '', '', '+1', '', '', '', '', '', '', '', '', '', '', '', '', '', '', '', '', '', '', '', '', '', '+3', '', '', '', '', '', '', '', '+1', '', '+3', '', '', '', '', '', '', '', '', '', '', '', '', '', '', '', '', '+1', '', '', '', '', '', '', '', '', '', '', '', '', '', '', '', '', '', '', '', '', '', '', '', '', '', '', '', '', '', '', '', '', '', '']\n"
     ]
    }
   ],
   "source": [
    "country=[]\n",
    "total_cases=[]\n",
    "new_cases=[]\n",
    "total_deaths=[]\n",
    "new_deaths=[]\n",
    "total_recovered=[]\n",
    "active_cases=[]\n",
    "serious_critical=[]\n",
    "total_cases_per_million=[]\n",
    "total_deaths_per_million=[]\n",
    "total_tests=[]\n",
    "total_tests_per_million=[]\n",
    "\n",
    "rows=co.find_all(\"tr\")[9:220]\n",
    "for row in rows:\n",
    "    col=row.find_all(\"td\")\n",
    "    country.append(col[0].text.strip())\n",
    "    total_cases.append(col[1].text.strip())\n",
    "    new_cases.append(col[2].text.strip())\n",
    "    total_deaths.append(col[3].text.strip())\n",
    "    new_deaths.append(col[4].text.strip())\n",
    "    total_recovered.append(col[5].text.strip())\n",
    "    active_cases.append(col[6].text.strip())\n",
    "    serious_critical.append(col[7].text.strip())\n",
    "    total_cases_per_million.append(col[8].text.strip())\n",
    "    total_deaths_per_million.append(col[9].text.strip())\n",
    "    total_tests.append(col[10].text.strip())\n",
    "    total_tests_per_million.append(col[11].text.strip())\n",
    "    \n",
    "print(country)\n",
    "print(new_cases)\n"
   ]
  },
  {
   "cell_type": "code",
   "execution_count": 43,
   "metadata": {},
   "outputs": [
    {
     "data": {
      "text/html": [
       "<div>\n",
       "<style scoped>\n",
       "    .dataframe tbody tr th:only-of-type {\n",
       "        vertical-align: middle;\n",
       "    }\n",
       "\n",
       "    .dataframe tbody tr th {\n",
       "        vertical-align: top;\n",
       "    }\n",
       "\n",
       "    .dataframe thead th {\n",
       "        text-align: right;\n",
       "    }\n",
       "</style>\n",
       "<table border=\"1\" class=\"dataframe\">\n",
       "  <thead>\n",
       "    <tr style=\"text-align: right;\">\n",
       "      <th></th>\n",
       "      <th>Country</th>\n",
       "      <th>Total_cases</th>\n",
       "      <th>New_cases</th>\n",
       "      <th>Total_deaths</th>\n",
       "      <th>New_deaths</th>\n",
       "      <th>Total_recovered</th>\n",
       "      <th>Active_cases</th>\n",
       "      <th>Serious_critical</th>\n",
       "      <th>Total_cases_per_million</th>\n",
       "      <th>Total_deaths_per_million</th>\n",
       "      <th>Total_tests</th>\n",
       "      <th>Total_tests_per_million</th>\n",
       "    </tr>\n",
       "  </thead>\n",
       "  <tbody>\n",
       "    <tr>\n",
       "      <th>0</th>\n",
       "      <td>USA</td>\n",
       "      <td>1,347,318</td>\n",
       "      <td>+9</td>\n",
       "      <td>80,040</td>\n",
       "      <td>+3</td>\n",
       "      <td>238,080</td>\n",
       "      <td>1,029,198</td>\n",
       "      <td>16,816</td>\n",
       "      <td>4,070</td>\n",
       "      <td>242</td>\n",
       "      <td>8,918,345</td>\n",
       "      <td>26,943</td>\n",
       "    </tr>\n",
       "    <tr>\n",
       "      <th>1</th>\n",
       "      <td>Spain</td>\n",
       "      <td>262,783</td>\n",
       "      <td></td>\n",
       "      <td>26,478</td>\n",
       "      <td></td>\n",
       "      <td>173,157</td>\n",
       "      <td>63,148</td>\n",
       "      <td>1,741</td>\n",
       "      <td>5,620</td>\n",
       "      <td>566</td>\n",
       "      <td>2,467,761</td>\n",
       "      <td>52,781</td>\n",
       "    </tr>\n",
       "    <tr>\n",
       "      <th>2</th>\n",
       "      <td>Italy</td>\n",
       "      <td>218,268</td>\n",
       "      <td></td>\n",
       "      <td>30,395</td>\n",
       "      <td></td>\n",
       "      <td>103,031</td>\n",
       "      <td>84,842</td>\n",
       "      <td>1,034</td>\n",
       "      <td>3,610</td>\n",
       "      <td>503</td>\n",
       "      <td>2,514,234</td>\n",
       "      <td>41,584</td>\n",
       "    </tr>\n",
       "    <tr>\n",
       "      <th>3</th>\n",
       "      <td>UK</td>\n",
       "      <td>215,260</td>\n",
       "      <td></td>\n",
       "      <td>31,587</td>\n",
       "      <td></td>\n",
       "      <td>N/A</td>\n",
       "      <td>183,329</td>\n",
       "      <td>1,559</td>\n",
       "      <td>3,171</td>\n",
       "      <td>465</td>\n",
       "      <td>1,728,443</td>\n",
       "      <td>25,461</td>\n",
       "    </tr>\n",
       "    <tr>\n",
       "      <th>4</th>\n",
       "      <td>Russia</td>\n",
       "      <td>209,688</td>\n",
       "      <td>+11,012</td>\n",
       "      <td>1,915</td>\n",
       "      <td>+88</td>\n",
       "      <td>34,306</td>\n",
       "      <td>173,467</td>\n",
       "      <td>2,300</td>\n",
       "      <td>1,437</td>\n",
       "      <td>13</td>\n",
       "      <td>5,448,463</td>\n",
       "      <td>37,335</td>\n",
       "    </tr>\n",
       "    <tr>\n",
       "      <th>...</th>\n",
       "      <td>...</td>\n",
       "      <td>...</td>\n",
       "      <td>...</td>\n",
       "      <td>...</td>\n",
       "      <td>...</td>\n",
       "      <td>...</td>\n",
       "      <td>...</td>\n",
       "      <td>...</td>\n",
       "      <td>...</td>\n",
       "      <td>...</td>\n",
       "      <td>...</td>\n",
       "      <td>...</td>\n",
       "    </tr>\n",
       "    <tr>\n",
       "      <th>206</th>\n",
       "      <td>British Virgin Islands</td>\n",
       "      <td>7</td>\n",
       "      <td></td>\n",
       "      <td>1</td>\n",
       "      <td></td>\n",
       "      <td>4</td>\n",
       "      <td>2</td>\n",
       "      <td></td>\n",
       "      <td>232</td>\n",
       "      <td>33</td>\n",
       "      <td>167</td>\n",
       "      <td>5,524</td>\n",
       "    </tr>\n",
       "    <tr>\n",
       "      <th>207</th>\n",
       "      <td>Bhutan</td>\n",
       "      <td>7</td>\n",
       "      <td></td>\n",
       "      <td></td>\n",
       "      <td></td>\n",
       "      <td>5</td>\n",
       "      <td>2</td>\n",
       "      <td></td>\n",
       "      <td>9</td>\n",
       "      <td></td>\n",
       "      <td>11,655</td>\n",
       "      <td>15,105</td>\n",
       "    </tr>\n",
       "    <tr>\n",
       "      <th>208</th>\n",
       "      <td>Caribbean Netherlands</td>\n",
       "      <td>6</td>\n",
       "      <td></td>\n",
       "      <td></td>\n",
       "      <td></td>\n",
       "      <td></td>\n",
       "      <td>6</td>\n",
       "      <td></td>\n",
       "      <td>229</td>\n",
       "      <td></td>\n",
       "      <td>110</td>\n",
       "      <td>4,195</td>\n",
       "    </tr>\n",
       "    <tr>\n",
       "      <th>209</th>\n",
       "      <td>St. Barth</td>\n",
       "      <td>6</td>\n",
       "      <td></td>\n",
       "      <td></td>\n",
       "      <td></td>\n",
       "      <td>6</td>\n",
       "      <td>0</td>\n",
       "      <td></td>\n",
       "      <td>607</td>\n",
       "      <td></td>\n",
       "      <td></td>\n",
       "      <td></td>\n",
       "    </tr>\n",
       "    <tr>\n",
       "      <th>210</th>\n",
       "      <td>Western Sahara</td>\n",
       "      <td>6</td>\n",
       "      <td></td>\n",
       "      <td></td>\n",
       "      <td></td>\n",
       "      <td>5</td>\n",
       "      <td>1</td>\n",
       "      <td></td>\n",
       "      <td>10</td>\n",
       "      <td></td>\n",
       "      <td></td>\n",
       "      <td></td>\n",
       "    </tr>\n",
       "  </tbody>\n",
       "</table>\n",
       "<p>211 rows × 12 columns</p>\n",
       "</div>"
      ],
      "text/plain": [
       "                    Country Total_cases New_cases Total_deaths New_deaths  \\\n",
       "0                       USA   1,347,318        +9       80,040         +3   \n",
       "1                     Spain     262,783                 26,478              \n",
       "2                     Italy     218,268                 30,395              \n",
       "3                        UK     215,260                 31,587              \n",
       "4                    Russia     209,688   +11,012        1,915        +88   \n",
       "..                      ...         ...       ...          ...        ...   \n",
       "206  British Virgin Islands           7                      1              \n",
       "207                  Bhutan           7                                     \n",
       "208   Caribbean Netherlands           6                                     \n",
       "209               St. Barth           6                                     \n",
       "210          Western Sahara           6                                     \n",
       "\n",
       "    Total_recovered Active_cases Serious_critical Total_cases_per_million  \\\n",
       "0           238,080    1,029,198           16,816                   4,070   \n",
       "1           173,157       63,148            1,741                   5,620   \n",
       "2           103,031       84,842            1,034                   3,610   \n",
       "3               N/A      183,329            1,559                   3,171   \n",
       "4            34,306      173,467            2,300                   1,437   \n",
       "..              ...          ...              ...                     ...   \n",
       "206               4            2                                      232   \n",
       "207               5            2                                        9   \n",
       "208                            6                                      229   \n",
       "209               6            0                                      607   \n",
       "210               5            1                                       10   \n",
       "\n",
       "    Total_deaths_per_million Total_tests Total_tests_per_million  \n",
       "0                        242   8,918,345                  26,943  \n",
       "1                        566   2,467,761                  52,781  \n",
       "2                        503   2,514,234                  41,584  \n",
       "3                        465   1,728,443                  25,461  \n",
       "4                         13   5,448,463                  37,335  \n",
       "..                       ...         ...                     ...  \n",
       "206                       33         167                   5,524  \n",
       "207                               11,655                  15,105  \n",
       "208                                  110                   4,195  \n",
       "209                                                               \n",
       "210                                                               \n",
       "\n",
       "[211 rows x 12 columns]"
      ]
     },
     "execution_count": 43,
     "metadata": {},
     "output_type": "execute_result"
    }
   ],
   "source": [
    "df=pd.DataFrame(list(zip(country,total_cases,new_cases,total_deaths,new_deaths,\n",
    "                         total_recovered,active_cases,serious_critical,\n",
    "                         total_cases_per_million,total_deaths_per_million,total_tests,total_tests_per_million)), \n",
    "                columns= [\"Country\",\"Total_cases\",\"New_cases\",\"Total_deaths\",\"New_deaths\",\"Total_recovered\",\"Active_cases\",\"Serious_critical\",\n",
    "                          \"Total_cases_per_million\",\"Total_deaths_per_million\",\"Total_tests\",\"Total_tests_per_million\"])\n",
    "df"
   ]
  },
  {
   "cell_type": "code",
   "execution_count": 44,
   "metadata": {},
   "outputs": [
    {
     "data": {
      "text/plain": [
       "Country                     object\n",
       "Total_cases                 object\n",
       "New_cases                   object\n",
       "Total_deaths                object\n",
       "New_deaths                  object\n",
       "Total_recovered             object\n",
       "Active_cases                object\n",
       "Serious_critical            object\n",
       "Total_cases_per_million     object\n",
       "Total_deaths_per_million    object\n",
       "Total_tests                 object\n",
       "Total_tests_per_million     object\n",
       "dtype: object"
      ]
     },
     "execution_count": 44,
     "metadata": {},
     "output_type": "execute_result"
    }
   ],
   "source": [
    "df.dtypes"
   ]
  },
  {
   "cell_type": "code",
   "execution_count": 45,
   "metadata": {},
   "outputs": [
    {
     "name": "stdout",
     "output_type": "stream",
     "text": [
      "<class 'pandas.core.frame.DataFrame'>\n",
      "RangeIndex: 211 entries, 0 to 210\n",
      "Data columns (total 12 columns):\n",
      " #   Column                    Non-Null Count  Dtype \n",
      "---  ------                    --------------  ----- \n",
      " 0   Country                   211 non-null    object\n",
      " 1   Total_cases               211 non-null    object\n",
      " 2   New_cases                 211 non-null    object\n",
      " 3   Total_deaths              211 non-null    object\n",
      " 4   New_deaths                211 non-null    object\n",
      " 5   Total_recovered           211 non-null    object\n",
      " 6   Active_cases              211 non-null    object\n",
      " 7   Serious_critical          211 non-null    object\n",
      " 8   Total_cases_per_million   211 non-null    object\n",
      " 9   Total_deaths_per_million  211 non-null    object\n",
      " 10  Total_tests               211 non-null    object\n",
      " 11  Total_tests_per_million   211 non-null    object\n",
      "dtypes: object(12)\n",
      "memory usage: 19.9+ KB\n"
     ]
    }
   ],
   "source": [
    "df.info()"
   ]
  },
  {
   "cell_type": "code",
   "execution_count": 46,
   "metadata": {},
   "outputs": [
    {
     "data": {
      "text/html": [
       "<div>\n",
       "<style scoped>\n",
       "    .dataframe tbody tr th:only-of-type {\n",
       "        vertical-align: middle;\n",
       "    }\n",
       "\n",
       "    .dataframe tbody tr th {\n",
       "        vertical-align: top;\n",
       "    }\n",
       "\n",
       "    .dataframe thead th {\n",
       "        text-align: right;\n",
       "    }\n",
       "</style>\n",
       "<table border=\"1\" class=\"dataframe\">\n",
       "  <thead>\n",
       "    <tr style=\"text-align: right;\">\n",
       "      <th></th>\n",
       "      <th>Country</th>\n",
       "      <th>Total_cases</th>\n",
       "      <th>New_cases</th>\n",
       "      <th>Total_deaths</th>\n",
       "      <th>New_deaths</th>\n",
       "      <th>Total_recovered</th>\n",
       "      <th>Active_cases</th>\n",
       "      <th>Serious_critical</th>\n",
       "      <th>Total_cases_per_million</th>\n",
       "      <th>Total_deaths_per_million</th>\n",
       "      <th>Total_tests</th>\n",
       "      <th>Total_tests_per_million</th>\n",
       "    </tr>\n",
       "  </thead>\n",
       "  <tbody>\n",
       "    <tr>\n",
       "      <th>0</th>\n",
       "      <td>USA</td>\n",
       "      <td>1,347,318</td>\n",
       "      <td>+9</td>\n",
       "      <td>80,040</td>\n",
       "      <td>+3</td>\n",
       "      <td>238,080</td>\n",
       "      <td>1,029,198</td>\n",
       "      <td>16,816</td>\n",
       "      <td>4,070</td>\n",
       "      <td>242</td>\n",
       "      <td>8,918,345</td>\n",
       "      <td>26,943</td>\n",
       "    </tr>\n",
       "    <tr>\n",
       "      <th>1</th>\n",
       "      <td>Spain</td>\n",
       "      <td>262,783</td>\n",
       "      <td>0</td>\n",
       "      <td>26,478</td>\n",
       "      <td>0</td>\n",
       "      <td>173,157</td>\n",
       "      <td>63,148</td>\n",
       "      <td>1,741</td>\n",
       "      <td>5,620</td>\n",
       "      <td>566</td>\n",
       "      <td>2,467,761</td>\n",
       "      <td>52,781</td>\n",
       "    </tr>\n",
       "    <tr>\n",
       "      <th>2</th>\n",
       "      <td>Italy</td>\n",
       "      <td>218,268</td>\n",
       "      <td>0</td>\n",
       "      <td>30,395</td>\n",
       "      <td>0</td>\n",
       "      <td>103,031</td>\n",
       "      <td>84,842</td>\n",
       "      <td>1,034</td>\n",
       "      <td>3,610</td>\n",
       "      <td>503</td>\n",
       "      <td>2,514,234</td>\n",
       "      <td>41,584</td>\n",
       "    </tr>\n",
       "    <tr>\n",
       "      <th>3</th>\n",
       "      <td>UK</td>\n",
       "      <td>215,260</td>\n",
       "      <td>0</td>\n",
       "      <td>31,587</td>\n",
       "      <td>0</td>\n",
       "      <td>-2</td>\n",
       "      <td>183,329</td>\n",
       "      <td>1,559</td>\n",
       "      <td>3,171</td>\n",
       "      <td>465</td>\n",
       "      <td>1,728,443</td>\n",
       "      <td>25,461</td>\n",
       "    </tr>\n",
       "    <tr>\n",
       "      <th>4</th>\n",
       "      <td>Russia</td>\n",
       "      <td>209,688</td>\n",
       "      <td>+11,012</td>\n",
       "      <td>1,915</td>\n",
       "      <td>+88</td>\n",
       "      <td>34,306</td>\n",
       "      <td>173,467</td>\n",
       "      <td>2,300</td>\n",
       "      <td>1,437</td>\n",
       "      <td>13</td>\n",
       "      <td>5,448,463</td>\n",
       "      <td>37,335</td>\n",
       "    </tr>\n",
       "    <tr>\n",
       "      <th>...</th>\n",
       "      <td>...</td>\n",
       "      <td>...</td>\n",
       "      <td>...</td>\n",
       "      <td>...</td>\n",
       "      <td>...</td>\n",
       "      <td>...</td>\n",
       "      <td>...</td>\n",
       "      <td>...</td>\n",
       "      <td>...</td>\n",
       "      <td>...</td>\n",
       "      <td>...</td>\n",
       "      <td>...</td>\n",
       "    </tr>\n",
       "    <tr>\n",
       "      <th>206</th>\n",
       "      <td>British Virgin Islands</td>\n",
       "      <td>7</td>\n",
       "      <td>0</td>\n",
       "      <td>1</td>\n",
       "      <td>0</td>\n",
       "      <td>4</td>\n",
       "      <td>2</td>\n",
       "      <td>-1</td>\n",
       "      <td>232</td>\n",
       "      <td>33</td>\n",
       "      <td>167</td>\n",
       "      <td>5,524</td>\n",
       "    </tr>\n",
       "    <tr>\n",
       "      <th>207</th>\n",
       "      <td>Bhutan</td>\n",
       "      <td>7</td>\n",
       "      <td>0</td>\n",
       "      <td>0</td>\n",
       "      <td>0</td>\n",
       "      <td>5</td>\n",
       "      <td>2</td>\n",
       "      <td>-1</td>\n",
       "      <td>9</td>\n",
       "      <td>-1</td>\n",
       "      <td>11,655</td>\n",
       "      <td>15,105</td>\n",
       "    </tr>\n",
       "    <tr>\n",
       "      <th>208</th>\n",
       "      <td>Caribbean Netherlands</td>\n",
       "      <td>6</td>\n",
       "      <td>0</td>\n",
       "      <td>0</td>\n",
       "      <td>0</td>\n",
       "      <td>0</td>\n",
       "      <td>6</td>\n",
       "      <td>-1</td>\n",
       "      <td>229</td>\n",
       "      <td>-1</td>\n",
       "      <td>110</td>\n",
       "      <td>4,195</td>\n",
       "    </tr>\n",
       "    <tr>\n",
       "      <th>209</th>\n",
       "      <td>St. Barth</td>\n",
       "      <td>6</td>\n",
       "      <td>0</td>\n",
       "      <td>0</td>\n",
       "      <td>0</td>\n",
       "      <td>6</td>\n",
       "      <td>0</td>\n",
       "      <td>-1</td>\n",
       "      <td>607</td>\n",
       "      <td>-1</td>\n",
       "      <td>-1</td>\n",
       "      <td>-1</td>\n",
       "    </tr>\n",
       "    <tr>\n",
       "      <th>210</th>\n",
       "      <td>Western Sahara</td>\n",
       "      <td>6</td>\n",
       "      <td>0</td>\n",
       "      <td>0</td>\n",
       "      <td>0</td>\n",
       "      <td>5</td>\n",
       "      <td>1</td>\n",
       "      <td>-1</td>\n",
       "      <td>10</td>\n",
       "      <td>-1</td>\n",
       "      <td>-1</td>\n",
       "      <td>-1</td>\n",
       "    </tr>\n",
       "  </tbody>\n",
       "</table>\n",
       "<p>211 rows × 12 columns</p>\n",
       "</div>"
      ],
      "text/plain": [
       "                    Country Total_cases New_cases Total_deaths New_deaths  \\\n",
       "0                       USA   1,347,318        +9       80,040         +3   \n",
       "1                     Spain     262,783         0       26,478          0   \n",
       "2                     Italy     218,268         0       30,395          0   \n",
       "3                        UK     215,260         0       31,587          0   \n",
       "4                    Russia     209,688   +11,012        1,915        +88   \n",
       "..                      ...         ...       ...          ...        ...   \n",
       "206  British Virgin Islands           7         0            1          0   \n",
       "207                  Bhutan           7         0            0          0   \n",
       "208   Caribbean Netherlands           6         0            0          0   \n",
       "209               St. Barth           6         0            0          0   \n",
       "210          Western Sahara           6         0            0          0   \n",
       "\n",
       "    Total_recovered Active_cases Serious_critical Total_cases_per_million  \\\n",
       "0           238,080    1,029,198           16,816                   4,070   \n",
       "1           173,157       63,148            1,741                   5,620   \n",
       "2           103,031       84,842            1,034                   3,610   \n",
       "3                -2      183,329            1,559                   3,171   \n",
       "4            34,306      173,467            2,300                   1,437   \n",
       "..              ...          ...              ...                     ...   \n",
       "206               4            2               -1                     232   \n",
       "207               5            2               -1                       9   \n",
       "208               0            6               -1                     229   \n",
       "209               6            0               -1                     607   \n",
       "210               5            1               -1                      10   \n",
       "\n",
       "    Total_deaths_per_million Total_tests Total_tests_per_million  \n",
       "0                        242   8,918,345                  26,943  \n",
       "1                        566   2,467,761                  52,781  \n",
       "2                        503   2,514,234                  41,584  \n",
       "3                        465   1,728,443                  25,461  \n",
       "4                         13   5,448,463                  37,335  \n",
       "..                       ...         ...                     ...  \n",
       "206                       33         167                   5,524  \n",
       "207                       -1      11,655                  15,105  \n",
       "208                       -1         110                   4,195  \n",
       "209                       -1          -1                      -1  \n",
       "210                       -1          -1                      -1  \n",
       "\n",
       "[211 rows x 12 columns]"
      ]
     },
     "execution_count": 46,
     "metadata": {},
     "output_type": "execute_result"
    }
   ],
   "source": [
    "#Columns to convert to int or float so replace by 0\n",
    "df[\"Total_cases\"] = df[\"Total_cases\"].str.replace(r\"^\\s*$\", \"0\")\n",
    "df[\"New_cases\"] = df[\"New_cases\"].str.replace(r\"^\\s*$\", \"0\")\n",
    "df[\"Total_deaths\"] = df[\"Total_deaths\"].str.replace(r\"^\\s*$\", \"0\")\n",
    "df[\"New_deaths\"] = df[\"New_deaths\"].str.replace(r\"^\\s*$\", \"0\")\n",
    "df[\"Total_recovered\"] =  df[\"Total_recovered\"].str.replace(r\"^\\s*$\", \"0\")\n",
    "df[\"Active_cases\"] = df[\"Active_cases\"].str.replace(r\"^\\s*$\", \"0\")\n",
    "\n",
    "\n",
    "# In this case the data is insufficient for some countries so and we cannot predict those values so -2 as a random no is used\n",
    "df[\"Serious_critical\"] = df[\"Serious_critical\"].str.replace(r\"^\\s*$\", \"-1\")\n",
    "df[\"Total_cases_per_million\"] = df[\"Total_cases_per_million\"].str.replace(r\"^\\s*$\", \"-1\")\n",
    "df[\"Total_deaths_per_million\"] = df[\"Total_deaths_per_million\"].str.replace(r\"^\\s*$\", \"-1\")\n",
    "df[\"Total_tests\"] = df[\"Total_tests\"].str.replace(r\"^\\s*$\", \"-1\")\n",
    "df[\"Total_tests_per_million\"] = df[\"Total_tests_per_million\"].str.replace(r\"^\\s*$\", \"-1\")\n",
    "\n",
    "\n",
    "\n",
    "\n",
    "#Replace info which is not available by -2\n",
    "df.replace(\"N/A\",-2,inplace=True)\n",
    "df"
   ]
  },
  {
   "cell_type": "code",
   "execution_count": 47,
   "metadata": {},
   "outputs": [],
   "source": [
    "total_cases1=[]\n",
    "for i in df[\"Total_cases\"]:\n",
    "    s=str(i)\n",
    "    \n",
    "    s1=s.replace(\",\",\"\")\n",
    "    s2=int(s1)\n",
    "    total_cases1.append(s2)\n",
    "    \n",
    "#print(total_cases1)\n",
    "\n",
    "new_cases1=[]\n",
    "for i in df[\"New_cases\"]:\n",
    "    s=str(i)\n",
    "    s1=s.replace(\"+\",\"\")\n",
    "    s2=s1.replace(\",\",\"\")\n",
    "    s3=int(s2)\n",
    "    new_cases1.append(s3)\n",
    "    \n",
    "#print(new_cases1)\n",
    "\n",
    "\n",
    "\n",
    "total_deaths1=[]\n",
    "for i in df[\"Total_deaths\"]:\n",
    "    s=str(i)\n",
    "    \n",
    "    s1=s.replace(\",\",\"\")\n",
    "    s2=int(s1)\n",
    "    total_deaths1.append(s2)\n",
    "    \n",
    "#print(total_deaths1)\n",
    "\n",
    "new_deaths1=[]\n",
    "for i in df[\"New_deaths\"]:\n",
    "    s=str(i)\n",
    "    s1=s.replace(\"+\",\"\")\n",
    "    s2=s1.replace(\",\",\"\")\n",
    "    s3=int(s2)\n",
    "    new_deaths1.append(s3)\n",
    "    \n",
    "#print(new_deaths1)\n",
    "\n",
    "\n",
    "total_recovered1=[]\n",
    "for i in df[\"Total_recovered\"]:\n",
    "    s=str(i)\n",
    "    \n",
    "    s1=s.replace(\",\",\"\")\n",
    "    s2=int(s1)\n",
    "    total_recovered1.append(s2)\n",
    "    \n",
    "#print(total_recovered1)\n",
    "\n",
    "active_cases1=[]\n",
    "for i in df[\"Active_cases\"]:\n",
    "    s=str(i)\n",
    "    \n",
    "    s1=s.replace(\",\",\"\")\n",
    "    s2=int(s1)\n",
    "    active_cases1.append(s2)\n",
    "    \n",
    "#print(active_cases1)\n",
    "\n",
    "\n",
    "\n",
    "serious_critical1=[]\n",
    "for i in df[\"Serious_critical\"]:\n",
    "    s=str(i)\n",
    "    \n",
    "    s1=s.replace(\",\",\"\")\n",
    "    s2=int(s1)\n",
    "    serious_critical1.append(s2)\n",
    "    \n",
    "#print(serious_critical1)\n",
    "\n",
    "total_cases_per_million1=[]\n",
    "for i in df[\"Total_cases_per_million\"]:\n",
    "    s=str(i)\n",
    "    \n",
    "    s1=s.replace(\",\",\"\")\n",
    "    s2=float(s1)\n",
    "    total_cases_per_million1.append(s2)\n",
    "    \n",
    "#print(total_cases_per_million1)\n",
    "\n",
    "\n",
    "total_deaths_per_million1=[]\n",
    "\n",
    "\n",
    "for i in df[\"Total_deaths_per_million\"]:\n",
    "    s=str(i)\n",
    "    \n",
    "    s1=s.replace(\",\",\"\")\n",
    "    s2=float(s1)\n",
    "    total_deaths_per_million1.append(s2)\n",
    "    \n",
    "#print(total_deaths_per_million1)\n",
    "\n",
    "total_tests1=[]\n",
    "for i in df[\"Total_tests\"]:\n",
    "    s=str(i)\n",
    "    \n",
    "    s1=s.replace(\",\",\"\")\n",
    "    s2=int(s1)\n",
    "    total_tests1.append(s2)\n",
    "    \n",
    "#print(total_tests1)\n",
    "\n",
    "\n",
    "\n",
    "total_tests_per_million1=[]\n",
    "for i in df[\"Total_tests_per_million\"]:\n",
    "    s=str(i)\n",
    "    \n",
    "    s1=s.replace(\",\",\"\")\n",
    "    s2=int(s1)\n",
    "    total_tests_per_million1.append(s2)\n",
    "    \n",
    "#print(total_tests_per_million1)\n",
    "    \n",
    "    \n",
    "country1=[]\n",
    "for i in df[\"Country\"]:\n",
    "    s=str(i)\n",
    "    s1=s\n",
    "    country1.append(s1)\n"
   ]
  },
  {
   "cell_type": "code",
   "execution_count": 75,
   "metadata": {
    "scrolled": true
   },
   "outputs": [
    {
     "data": {
      "text/html": [
       "<div>\n",
       "<style scoped>\n",
       "    .dataframe tbody tr th:only-of-type {\n",
       "        vertical-align: middle;\n",
       "    }\n",
       "\n",
       "    .dataframe tbody tr th {\n",
       "        vertical-align: top;\n",
       "    }\n",
       "\n",
       "    .dataframe thead th {\n",
       "        text-align: right;\n",
       "    }\n",
       "</style>\n",
       "<table border=\"1\" class=\"dataframe\">\n",
       "  <thead>\n",
       "    <tr style=\"text-align: right;\">\n",
       "      <th></th>\n",
       "      <th>Country</th>\n",
       "      <th>Total_cases</th>\n",
       "      <th>New_cases</th>\n",
       "      <th>Total_deaths</th>\n",
       "      <th>New_deaths</th>\n",
       "      <th>Total_recovered</th>\n",
       "      <th>Active_cases</th>\n",
       "      <th>Serious_critical</th>\n",
       "      <th>Total_cases_per_million</th>\n",
       "      <th>Total_deaths_per_million</th>\n",
       "      <th>Total_tests</th>\n",
       "      <th>Total_tests_per_million</th>\n",
       "    </tr>\n",
       "  </thead>\n",
       "  <tbody>\n",
       "    <tr>\n",
       "      <th>0</th>\n",
       "      <td>USA</td>\n",
       "      <td>1347318</td>\n",
       "      <td>9</td>\n",
       "      <td>80040</td>\n",
       "      <td>3</td>\n",
       "      <td>238080</td>\n",
       "      <td>1029198</td>\n",
       "      <td>16816</td>\n",
       "      <td>4070.0</td>\n",
       "      <td>242.0</td>\n",
       "      <td>8918345</td>\n",
       "      <td>26943</td>\n",
       "    </tr>\n",
       "    <tr>\n",
       "      <th>1</th>\n",
       "      <td>Spain</td>\n",
       "      <td>262783</td>\n",
       "      <td>0</td>\n",
       "      <td>26478</td>\n",
       "      <td>0</td>\n",
       "      <td>173157</td>\n",
       "      <td>63148</td>\n",
       "      <td>1741</td>\n",
       "      <td>5620.0</td>\n",
       "      <td>566.0</td>\n",
       "      <td>2467761</td>\n",
       "      <td>52781</td>\n",
       "    </tr>\n",
       "    <tr>\n",
       "      <th>2</th>\n",
       "      <td>Italy</td>\n",
       "      <td>218268</td>\n",
       "      <td>0</td>\n",
       "      <td>30395</td>\n",
       "      <td>0</td>\n",
       "      <td>103031</td>\n",
       "      <td>84842</td>\n",
       "      <td>1034</td>\n",
       "      <td>3610.0</td>\n",
       "      <td>503.0</td>\n",
       "      <td>2514234</td>\n",
       "      <td>41584</td>\n",
       "    </tr>\n",
       "    <tr>\n",
       "      <th>3</th>\n",
       "      <td>UK</td>\n",
       "      <td>215260</td>\n",
       "      <td>0</td>\n",
       "      <td>31587</td>\n",
       "      <td>0</td>\n",
       "      <td>-2</td>\n",
       "      <td>183329</td>\n",
       "      <td>1559</td>\n",
       "      <td>3171.0</td>\n",
       "      <td>465.0</td>\n",
       "      <td>1728443</td>\n",
       "      <td>25461</td>\n",
       "    </tr>\n",
       "    <tr>\n",
       "      <th>4</th>\n",
       "      <td>Russia</td>\n",
       "      <td>209688</td>\n",
       "      <td>11012</td>\n",
       "      <td>1915</td>\n",
       "      <td>88</td>\n",
       "      <td>34306</td>\n",
       "      <td>173467</td>\n",
       "      <td>2300</td>\n",
       "      <td>1437.0</td>\n",
       "      <td>13.0</td>\n",
       "      <td>5448463</td>\n",
       "      <td>37335</td>\n",
       "    </tr>\n",
       "    <tr>\n",
       "      <th>...</th>\n",
       "      <td>...</td>\n",
       "      <td>...</td>\n",
       "      <td>...</td>\n",
       "      <td>...</td>\n",
       "      <td>...</td>\n",
       "      <td>...</td>\n",
       "      <td>...</td>\n",
       "      <td>...</td>\n",
       "      <td>...</td>\n",
       "      <td>...</td>\n",
       "      <td>...</td>\n",
       "      <td>...</td>\n",
       "    </tr>\n",
       "    <tr>\n",
       "      <th>206</th>\n",
       "      <td>British Virgin Islands</td>\n",
       "      <td>7</td>\n",
       "      <td>0</td>\n",
       "      <td>1</td>\n",
       "      <td>0</td>\n",
       "      <td>4</td>\n",
       "      <td>2</td>\n",
       "      <td>-1</td>\n",
       "      <td>232.0</td>\n",
       "      <td>33.0</td>\n",
       "      <td>167</td>\n",
       "      <td>5524</td>\n",
       "    </tr>\n",
       "    <tr>\n",
       "      <th>207</th>\n",
       "      <td>Bhutan</td>\n",
       "      <td>7</td>\n",
       "      <td>0</td>\n",
       "      <td>0</td>\n",
       "      <td>0</td>\n",
       "      <td>5</td>\n",
       "      <td>2</td>\n",
       "      <td>-1</td>\n",
       "      <td>9.0</td>\n",
       "      <td>-1.0</td>\n",
       "      <td>11655</td>\n",
       "      <td>15105</td>\n",
       "    </tr>\n",
       "    <tr>\n",
       "      <th>208</th>\n",
       "      <td>Caribbean Netherlands</td>\n",
       "      <td>6</td>\n",
       "      <td>0</td>\n",
       "      <td>0</td>\n",
       "      <td>0</td>\n",
       "      <td>0</td>\n",
       "      <td>6</td>\n",
       "      <td>-1</td>\n",
       "      <td>229.0</td>\n",
       "      <td>-1.0</td>\n",
       "      <td>110</td>\n",
       "      <td>4195</td>\n",
       "    </tr>\n",
       "    <tr>\n",
       "      <th>209</th>\n",
       "      <td>St. Barth</td>\n",
       "      <td>6</td>\n",
       "      <td>0</td>\n",
       "      <td>0</td>\n",
       "      <td>0</td>\n",
       "      <td>6</td>\n",
       "      <td>0</td>\n",
       "      <td>-1</td>\n",
       "      <td>607.0</td>\n",
       "      <td>-1.0</td>\n",
       "      <td>-1</td>\n",
       "      <td>-1</td>\n",
       "    </tr>\n",
       "    <tr>\n",
       "      <th>210</th>\n",
       "      <td>Western Sahara</td>\n",
       "      <td>6</td>\n",
       "      <td>0</td>\n",
       "      <td>0</td>\n",
       "      <td>0</td>\n",
       "      <td>5</td>\n",
       "      <td>1</td>\n",
       "      <td>-1</td>\n",
       "      <td>10.0</td>\n",
       "      <td>-1.0</td>\n",
       "      <td>-1</td>\n",
       "      <td>-1</td>\n",
       "    </tr>\n",
       "  </tbody>\n",
       "</table>\n",
       "<p>211 rows × 12 columns</p>\n",
       "</div>"
      ],
      "text/plain": [
       "                    Country  Total_cases  New_cases  Total_deaths  New_deaths  \\\n",
       "0                       USA      1347318          9         80040           3   \n",
       "1                     Spain       262783          0         26478           0   \n",
       "2                     Italy       218268          0         30395           0   \n",
       "3                        UK       215260          0         31587           0   \n",
       "4                    Russia       209688      11012          1915          88   \n",
       "..                      ...          ...        ...           ...         ...   \n",
       "206  British Virgin Islands            7          0             1           0   \n",
       "207                  Bhutan            7          0             0           0   \n",
       "208   Caribbean Netherlands            6          0             0           0   \n",
       "209               St. Barth            6          0             0           0   \n",
       "210          Western Sahara            6          0             0           0   \n",
       "\n",
       "     Total_recovered  Active_cases  Serious_critical  Total_cases_per_million  \\\n",
       "0             238080       1029198             16816                   4070.0   \n",
       "1             173157         63148              1741                   5620.0   \n",
       "2             103031         84842              1034                   3610.0   \n",
       "3                 -2        183329              1559                   3171.0   \n",
       "4              34306        173467              2300                   1437.0   \n",
       "..               ...           ...               ...                      ...   \n",
       "206                4             2                -1                    232.0   \n",
       "207                5             2                -1                      9.0   \n",
       "208                0             6                -1                    229.0   \n",
       "209                6             0                -1                    607.0   \n",
       "210                5             1                -1                     10.0   \n",
       "\n",
       "     Total_deaths_per_million  Total_tests  Total_tests_per_million  \n",
       "0                       242.0      8918345                    26943  \n",
       "1                       566.0      2467761                    52781  \n",
       "2                       503.0      2514234                    41584  \n",
       "3                       465.0      1728443                    25461  \n",
       "4                        13.0      5448463                    37335  \n",
       "..                        ...          ...                      ...  \n",
       "206                      33.0          167                     5524  \n",
       "207                      -1.0        11655                    15105  \n",
       "208                      -1.0          110                     4195  \n",
       "209                      -1.0           -1                       -1  \n",
       "210                      -1.0           -1                       -1  \n",
       "\n",
       "[211 rows x 12 columns]"
      ]
     },
     "execution_count": 75,
     "metadata": {},
     "output_type": "execute_result"
    }
   ],
   "source": [
    "df1=pd.DataFrame(list(zip(country1,total_cases1,new_cases1,total_deaths1,new_deaths1,\n",
    "                         total_recovered1,active_cases1,serious_critical1,\n",
    "                         total_cases_per_million1,total_deaths_per_million1,total_tests1,total_tests_per_million1)), \n",
    "                columns= [\"Country\",\"Total_cases\",\"New_cases\",\"Total_deaths\",\"New_deaths\",\"Total_recovered\",\"Active_cases\",\"Serious_critical\",\n",
    "                          \"Total_cases_per_million\",\"Total_deaths_per_million\",\"Total_tests\",\"Total_tests_per_million\"])\n",
    "df1"
   ]
  },
  {
   "cell_type": "code",
   "execution_count": 76,
   "metadata": {},
   "outputs": [
    {
     "data": {
      "text/plain": [
       "Country                      object\n",
       "Total_cases                   int64\n",
       "New_cases                     int64\n",
       "Total_deaths                  int64\n",
       "New_deaths                    int64\n",
       "Total_recovered               int64\n",
       "Active_cases                  int64\n",
       "Serious_critical              int64\n",
       "Total_cases_per_million     float64\n",
       "Total_deaths_per_million    float64\n",
       "Total_tests                   int64\n",
       "Total_tests_per_million       int64\n",
       "dtype: object"
      ]
     },
     "execution_count": 76,
     "metadata": {},
     "output_type": "execute_result"
    }
   ],
   "source": [
    "df1.dtypes"
   ]
  },
  {
   "cell_type": "code",
   "execution_count": 77,
   "metadata": {},
   "outputs": [],
   "source": [
    "import plotly.offline as po"
   ]
  },
  {
   "cell_type": "code",
   "execution_count": 78,
   "metadata": {},
   "outputs": [
    {
     "name": "stdout",
     "output_type": "stream",
     "text": [
      "Collecting package metadata (current_repodata.json): done\n",
      "Solving environment: done\n",
      "\n",
      "# All requested packages already installed.\n",
      "\n",
      "\n",
      "Note: you may need to restart the kernel to use updated packages.\n"
     ]
    }
   ],
   "source": [
    "conda install -c plotly plotly chart-studio"
   ]
  },
  {
   "cell_type": "code",
   "execution_count": 79,
   "metadata": {},
   "outputs": [],
   "source": [
    "import cufflinks as cf"
   ]
  },
  {
   "cell_type": "code",
   "execution_count": 80,
   "metadata": {},
   "outputs": [],
   "source": [
    "import chart_studio.plotly as pl"
   ]
  },
  {
   "cell_type": "code",
   "execution_count": 81,
   "metadata": {},
   "outputs": [
    {
     "data": {
      "text/html": [
       "        <script type=\"text/javascript\">\n",
       "        window.PlotlyConfig = {MathJaxConfig: 'local'};\n",
       "        if (window.MathJax) {MathJax.Hub.Config({SVG: {font: \"STIX-Web\"}});}\n",
       "        if (typeof require !== 'undefined') {\n",
       "        require.undef(\"plotly\");\n",
       "        requirejs.config({\n",
       "            paths: {\n",
       "                'plotly': ['https://cdn.plot.ly/plotly-latest.min']\n",
       "            }\n",
       "        });\n",
       "        require(['plotly'], function(Plotly) {\n",
       "            window._Plotly = Plotly;\n",
       "        });\n",
       "        }\n",
       "        </script>\n",
       "        "
      ]
     },
     "metadata": {},
     "output_type": "display_data"
    },
    {
     "data": {
      "text/html": [
       "        <script type=\"text/javascript\">\n",
       "        window.PlotlyConfig = {MathJaxConfig: 'local'};\n",
       "        if (window.MathJax) {MathJax.Hub.Config({SVG: {font: \"STIX-Web\"}});}\n",
       "        if (typeof require !== 'undefined') {\n",
       "        require.undef(\"plotly\");\n",
       "        requirejs.config({\n",
       "            paths: {\n",
       "                'plotly': ['https://cdn.plot.ly/plotly-latest.min']\n",
       "            }\n",
       "        });\n",
       "        require(['plotly'], function(Plotly) {\n",
       "            window._Plotly = Plotly;\n",
       "        });\n",
       "        }\n",
       "        </script>\n",
       "        "
      ]
     },
     "metadata": {},
     "output_type": "display_data"
    }
   ],
   "source": [
    "po.init_notebook_mode(connected=True)\n",
    "cf.go_offline()"
   ]
  },
  {
   "cell_type": "code",
   "execution_count": 82,
   "metadata": {},
   "outputs": [
    {
     "data": {
      "text/html": [
       "<div>\n",
       "<style scoped>\n",
       "    .dataframe tbody tr th:only-of-type {\n",
       "        vertical-align: middle;\n",
       "    }\n",
       "\n",
       "    .dataframe tbody tr th {\n",
       "        vertical-align: top;\n",
       "    }\n",
       "\n",
       "    .dataframe thead th {\n",
       "        text-align: right;\n",
       "    }\n",
       "</style>\n",
       "<table border=\"1\" class=\"dataframe\">\n",
       "  <thead>\n",
       "    <tr style=\"text-align: right;\">\n",
       "      <th></th>\n",
       "      <th>Total_cases</th>\n",
       "      <th>New_cases</th>\n",
       "      <th>Total_deaths</th>\n",
       "      <th>New_deaths</th>\n",
       "      <th>Total_recovered</th>\n",
       "      <th>Active_cases</th>\n",
       "      <th>Serious_critical</th>\n",
       "      <th>Total_cases_per_million</th>\n",
       "      <th>Total_deaths_per_million</th>\n",
       "      <th>Total_tests</th>\n",
       "      <th>Total_tests_per_million</th>\n",
       "    </tr>\n",
       "  </thead>\n",
       "  <tbody>\n",
       "    <tr>\n",
       "      <th>0</th>\n",
       "      <td>1347318</td>\n",
       "      <td>9</td>\n",
       "      <td>80040</td>\n",
       "      <td>3</td>\n",
       "      <td>238080</td>\n",
       "      <td>1029198</td>\n",
       "      <td>16816</td>\n",
       "      <td>4070.0</td>\n",
       "      <td>242.0</td>\n",
       "      <td>8918345</td>\n",
       "      <td>26943</td>\n",
       "    </tr>\n",
       "    <tr>\n",
       "      <th>1</th>\n",
       "      <td>262783</td>\n",
       "      <td>0</td>\n",
       "      <td>26478</td>\n",
       "      <td>0</td>\n",
       "      <td>173157</td>\n",
       "      <td>63148</td>\n",
       "      <td>1741</td>\n",
       "      <td>5620.0</td>\n",
       "      <td>566.0</td>\n",
       "      <td>2467761</td>\n",
       "      <td>52781</td>\n",
       "    </tr>\n",
       "    <tr>\n",
       "      <th>2</th>\n",
       "      <td>218268</td>\n",
       "      <td>0</td>\n",
       "      <td>30395</td>\n",
       "      <td>0</td>\n",
       "      <td>103031</td>\n",
       "      <td>84842</td>\n",
       "      <td>1034</td>\n",
       "      <td>3610.0</td>\n",
       "      <td>503.0</td>\n",
       "      <td>2514234</td>\n",
       "      <td>41584</td>\n",
       "    </tr>\n",
       "    <tr>\n",
       "      <th>3</th>\n",
       "      <td>215260</td>\n",
       "      <td>0</td>\n",
       "      <td>31587</td>\n",
       "      <td>0</td>\n",
       "      <td>-2</td>\n",
       "      <td>183329</td>\n",
       "      <td>1559</td>\n",
       "      <td>3171.0</td>\n",
       "      <td>465.0</td>\n",
       "      <td>1728443</td>\n",
       "      <td>25461</td>\n",
       "    </tr>\n",
       "    <tr>\n",
       "      <th>4</th>\n",
       "      <td>209688</td>\n",
       "      <td>11012</td>\n",
       "      <td>1915</td>\n",
       "      <td>88</td>\n",
       "      <td>34306</td>\n",
       "      <td>173467</td>\n",
       "      <td>2300</td>\n",
       "      <td>1437.0</td>\n",
       "      <td>13.0</td>\n",
       "      <td>5448463</td>\n",
       "      <td>37335</td>\n",
       "    </tr>\n",
       "    <tr>\n",
       "      <th>...</th>\n",
       "      <td>...</td>\n",
       "      <td>...</td>\n",
       "      <td>...</td>\n",
       "      <td>...</td>\n",
       "      <td>...</td>\n",
       "      <td>...</td>\n",
       "      <td>...</td>\n",
       "      <td>...</td>\n",
       "      <td>...</td>\n",
       "      <td>...</td>\n",
       "      <td>...</td>\n",
       "    </tr>\n",
       "    <tr>\n",
       "      <th>206</th>\n",
       "      <td>7</td>\n",
       "      <td>0</td>\n",
       "      <td>1</td>\n",
       "      <td>0</td>\n",
       "      <td>4</td>\n",
       "      <td>2</td>\n",
       "      <td>-1</td>\n",
       "      <td>232.0</td>\n",
       "      <td>33.0</td>\n",
       "      <td>167</td>\n",
       "      <td>5524</td>\n",
       "    </tr>\n",
       "    <tr>\n",
       "      <th>207</th>\n",
       "      <td>7</td>\n",
       "      <td>0</td>\n",
       "      <td>0</td>\n",
       "      <td>0</td>\n",
       "      <td>5</td>\n",
       "      <td>2</td>\n",
       "      <td>-1</td>\n",
       "      <td>9.0</td>\n",
       "      <td>-1.0</td>\n",
       "      <td>11655</td>\n",
       "      <td>15105</td>\n",
       "    </tr>\n",
       "    <tr>\n",
       "      <th>208</th>\n",
       "      <td>6</td>\n",
       "      <td>0</td>\n",
       "      <td>0</td>\n",
       "      <td>0</td>\n",
       "      <td>0</td>\n",
       "      <td>6</td>\n",
       "      <td>-1</td>\n",
       "      <td>229.0</td>\n",
       "      <td>-1.0</td>\n",
       "      <td>110</td>\n",
       "      <td>4195</td>\n",
       "    </tr>\n",
       "    <tr>\n",
       "      <th>209</th>\n",
       "      <td>6</td>\n",
       "      <td>0</td>\n",
       "      <td>0</td>\n",
       "      <td>0</td>\n",
       "      <td>6</td>\n",
       "      <td>0</td>\n",
       "      <td>-1</td>\n",
       "      <td>607.0</td>\n",
       "      <td>-1.0</td>\n",
       "      <td>-1</td>\n",
       "      <td>-1</td>\n",
       "    </tr>\n",
       "    <tr>\n",
       "      <th>210</th>\n",
       "      <td>6</td>\n",
       "      <td>0</td>\n",
       "      <td>0</td>\n",
       "      <td>0</td>\n",
       "      <td>5</td>\n",
       "      <td>1</td>\n",
       "      <td>-1</td>\n",
       "      <td>10.0</td>\n",
       "      <td>-1.0</td>\n",
       "      <td>-1</td>\n",
       "      <td>-1</td>\n",
       "    </tr>\n",
       "  </tbody>\n",
       "</table>\n",
       "<p>211 rows × 11 columns</p>\n",
       "</div>"
      ],
      "text/plain": [
       "     Total_cases  New_cases  Total_deaths  New_deaths  Total_recovered  \\\n",
       "0        1347318          9         80040           3           238080   \n",
       "1         262783          0         26478           0           173157   \n",
       "2         218268          0         30395           0           103031   \n",
       "3         215260          0         31587           0               -2   \n",
       "4         209688      11012          1915          88            34306   \n",
       "..           ...        ...           ...         ...              ...   \n",
       "206            7          0             1           0                4   \n",
       "207            7          0             0           0                5   \n",
       "208            6          0             0           0                0   \n",
       "209            6          0             0           0                6   \n",
       "210            6          0             0           0                5   \n",
       "\n",
       "     Active_cases  Serious_critical  Total_cases_per_million  \\\n",
       "0         1029198             16816                   4070.0   \n",
       "1           63148              1741                   5620.0   \n",
       "2           84842              1034                   3610.0   \n",
       "3          183329              1559                   3171.0   \n",
       "4          173467              2300                   1437.0   \n",
       "..            ...               ...                      ...   \n",
       "206             2                -1                    232.0   \n",
       "207             2                -1                      9.0   \n",
       "208             6                -1                    229.0   \n",
       "209             0                -1                    607.0   \n",
       "210             1                -1                     10.0   \n",
       "\n",
       "     Total_deaths_per_million  Total_tests  Total_tests_per_million  \n",
       "0                       242.0      8918345                    26943  \n",
       "1                       566.0      2467761                    52781  \n",
       "2                       503.0      2514234                    41584  \n",
       "3                       465.0      1728443                    25461  \n",
       "4                        13.0      5448463                    37335  \n",
       "..                        ...          ...                      ...  \n",
       "206                      33.0          167                     5524  \n",
       "207                      -1.0        11655                    15105  \n",
       "208                      -1.0          110                     4195  \n",
       "209                      -1.0           -1                       -1  \n",
       "210                      -1.0           -1                       -1  \n",
       "\n",
       "[211 rows x 11 columns]"
      ]
     },
     "execution_count": 82,
     "metadata": {},
     "output_type": "execute_result"
    }
   ],
   "source": [
    "df1=pd.DataFrame(list(zip(total_cases1,new_cases1,total_deaths1,new_deaths1,\n",
    "                         total_recovered1,active_cases1,serious_critical1,\n",
    "                         total_cases_per_million1,total_deaths_per_million1,total_tests1,total_tests_per_million1)), \n",
    "                columns= [\"Total_cases\",\"New_cases\",\"Total_deaths\",\"New_deaths\",\"Total_recovered\",\"Active_cases\",\"Serious_critical\",\n",
    "                          \"Total_cases_per_million\",\"Total_deaths_per_million\",\"Total_tests\",\"Total_tests_per_million\"])\n",
    "df1"
   ]
  },
  {
   "cell_type": "code",
   "execution_count": 83,
   "metadata": {},
   "outputs": [],
   "source": [
    "def main(cat):   #selecting the category to plot which graph\n",
    "    if(cat==1):\n",
    "        print('Print the plot by selecting the options from 1 to 6')\n",
    "        print('1.Line plot')\n",
    "        print('2.Scatter plot')\n",
    "        print('3.Bar plot')\n",
    "        print('4.Histogram')\n",
    "        print('5.Box plot')\n",
    "        print('6.Surface plot')\n",
    "        plot=int(input())\n",
    "        output=plotter(plot)\n",
    "    elif(cat==2):\n",
    "        print('Print the plot by selecting the options from 1 to 7')\n",
    "        print('1.Line plot')\n",
    "        print('2.Scatter plot')\n",
    "        print('3.Bar plot')\n",
    "        print('4.Histogram')\n",
    "        print('5.Box plot')\n",
    "        print('6.Surface plot')\n",
    "        print('7.Bubble plot')\n",
    "        plot=int(input())\n",
    "        output=plotter2(plot)\n",
    "    else:\n",
    "        print('Please enter 1 or 2 and try again')"
   ]
  },
  {
   "cell_type": "code",
   "execution_count": 111,
   "metadata": {},
   "outputs": [],
   "source": [
    "def plotter(plot):   #function to plot graph for all columns\n",
    "    if(plot==1):\n",
    "        finalplot=df1.iplot(kind='scatter',title='LINE PLOT')\n",
    "    elif(plot==2):\n",
    "        finalplot=df1.iplot(kind='scatter',mode='markers',symbol='x',colorscale='paired')\n",
    "    elif(plot==3):\n",
    "        finalplot=df1.iplot(kind='bar')\n",
    "    elif(plot==4):\n",
    "        finalplot=df1.iplot(kind='hist')\n",
    "    elif(plot==5):\n",
    "        finalplot=df1.iplot(kind='box')\n",
    "    elif(plot==6):\n",
    "        finalplot=df1.iplot(kind='surface')\n",
    "    else:\n",
    "        finalplot=print('Select between 1 to 6')\n",
    "    return finalplot"
   ]
  },
  {
   "cell_type": "code",
   "execution_count": 112,
   "metadata": {},
   "outputs": [],
   "source": [
    "def plotter2(plot):  #function to plot graphs for particular columns\n",
    "    col=input('Enter the no of columns you want to plot by selecting 1 2 or 3')\n",
    "    col=int(col)\n",
    "    if(col==1):\n",
    "        coln=input('Enter the column name by selecting any column from dataframe band ')\n",
    "        if(plot==1):\n",
    "            finalplot=df1[coln].iplot(kind='scatter')\n",
    "        elif(plot==2):\n",
    "            finalplot=df1[coln].iplot(kind='scatter',mode='markers',colorscale='paired')\n",
    "        elif(plot==3):\n",
    "            finalplot=df1[coln].iplot(kind='bar')\n",
    "        elif(plot==4):\n",
    "            finalplot=df1[coln].iplot(kind='hist')\n",
    "        elif(plot==5):\n",
    "            finalplot=df1[coln].iplot(kind='box')\n",
    "        elif(plot==6 or plot==7):\n",
    "            finalplot=print('Surface plot and bubble plot not possible using only 1 column')\n",
    "        else:\n",
    "            finalplot=print('Select proper input')\n",
    "    elif(col==2):\n",
    "        print('Enter the columns you want to plot by selecting from dataframe band')\n",
    "        x=input('First column')\n",
    "        y=input('Second column')\n",
    "        if(plot==1):\n",
    "            finalplot=df1[[x,y]].iplot(kind='scatter')\n",
    "        elif(plot==2):\n",
    "            finalplot=df1[[x,y]].iplot(kind='scatter',mode='markers',colorscale='paired')\n",
    "        elif(plot==3):\n",
    "            finalplot=df1[[x,y]].iplot(kind='bar')\n",
    "        elif(plot==4):\n",
    "            finalplot=df1[[x,y]].iplot(kind='hist')\n",
    "        elif(plot==5):\n",
    "            finalplot=df1[[x,y]].iplot(kind='box')\n",
    "        elif(plot==6):\n",
    "            finalplot=df1[[x,y]].iplot(kind='box')\n",
    "        elif(plot==7):\n",
    "            size=input('Enter the size column for bubble plot')\n",
    "            finalplot=df1.iplot(kind='bubble',x=x,y=y,size=size)\n",
    "        else:\n",
    "            finalplot=print('Select proper input')\n",
    "    elif(col==3):\n",
    "        print('Enter the columns you want to plot by selecting from dataframe band')\n",
    "        x=input('First column')\n",
    "        y=input('Second column')\n",
    "        z=input('Third column')\n",
    "        if(plot==1):\n",
    "            finalplot=df1[[x,y,z]].iplot(kind='scatter')\n",
    "        elif(plot==2):\n",
    "            finalplot=df1[[x,y,z]].iplot(kind='scatter',mode='markers',colorscale='paired')\n",
    "        elif(plot==3):\n",
    "            finalplot=df1[[x,y,z]].iplot(kind='bar')\n",
    "        elif(plot==4):\n",
    "            finalplot=df1[[x,y,z]].iplot(kind='hist')\n",
    "        elif(plot==5):\n",
    "            finalplot=df1[[x,y,z]].iplot(kind='box')\n",
    "        elif(plot==6):\n",
    "            finalplot=df1[[x,y,z]].iplot(kind='box')\n",
    "        elif(plot==7):\n",
    "            size=input('Enter the size column for bubble plot')\n",
    "            finalplot=df1.iplot(kind='bubble',x=x,y=y,z=z,size=size)\n",
    "        else:\n",
    "            finalplot=print('Select proper input')\n",
    "        \n",
    "    else:\n",
    "        print('Please enter 1 2 or 3')\n",
    "    return finalplot\n",
    "        "
   ]
  },
  {
   "cell_type": "code",
   "execution_count": 126,
   "metadata": {},
   "outputs": [
    {
     "name": "stdout",
     "output_type": "stream",
     "text": [
      "What kind of plot do you need? the complete data plot or columns plot\n",
      "Press 1 to plot all columns Press 2 to plot specifying column to plot2\n"
     ]
    }
   ],
   "source": [
    "print('What kind of plot do you need? the complete data plot or columns plot')\n",
    "cat=input('Press 1 to plot all columns Press 2 to plot specifying column to plot')\n",
    "cat=int(cat)\n"
   ]
  },
  {
   "cell_type": "code",
   "execution_count": 127,
   "metadata": {},
   "outputs": [
    {
     "name": "stdout",
     "output_type": "stream",
     "text": [
      "Print the plot by selecting the options from 1 to 7\n",
      "1.Line plot\n",
      "2.Scatter plot\n",
      "3.Bar plot\n",
      "4.Histogram\n",
      "5.Box plot\n",
      "6.Surface plot\n",
      "7.Bubble plot\n",
      "1\n",
      "Enter the no of columns you want to plot by selecting 1 2 or 32\n",
      "Enter the columns you want to plot by selecting from dataframe band\n",
      "First columnTotal_cases\n",
      "Second columnNew_cases\n"
     ]
    },
    {
     "data": {
      "application/vnd.plotly.v1+json": {
       "config": {
        "linkText": "Export to plot.ly",
        "plotlyServerURL": "https://plot.ly",
        "showLink": true
       },
       "data": [
        {
         "line": {
          "color": "rgba(255, 153, 51, 1.0)",
          "dash": "solid",
          "shape": "linear",
          "width": 1.3
         },
         "mode": "lines",
         "name": "Total_cases",
         "text": "",
         "type": "scatter",
         "x": [
          0,
          1,
          2,
          3,
          4,
          5,
          6,
          7,
          8,
          9,
          10,
          11,
          12,
          13,
          14,
          15,
          16,
          17,
          18,
          19,
          20,
          21,
          22,
          23,
          24,
          25,
          26,
          27,
          28,
          29,
          30,
          31,
          32,
          33,
          34,
          35,
          36,
          37,
          38,
          39,
          40,
          41,
          42,
          43,
          44,
          45,
          46,
          47,
          48,
          49,
          50,
          51,
          52,
          53,
          54,
          55,
          56,
          57,
          58,
          59,
          60,
          61,
          62,
          63,
          64,
          65,
          66,
          67,
          68,
          69,
          70,
          71,
          72,
          73,
          74,
          75,
          76,
          77,
          78,
          79,
          80,
          81,
          82,
          83,
          84,
          85,
          86,
          87,
          88,
          89,
          90,
          91,
          92,
          93,
          94,
          95,
          96,
          97,
          98,
          99,
          100,
          101,
          102,
          103,
          104,
          105,
          106,
          107,
          108,
          109,
          110,
          111,
          112,
          113,
          114,
          115,
          116,
          117,
          118,
          119,
          120,
          121,
          122,
          123,
          124,
          125,
          126,
          127,
          128,
          129,
          130,
          131,
          132,
          133,
          134,
          135,
          136,
          137,
          138,
          139,
          140,
          141,
          142,
          143,
          144,
          145,
          146,
          147,
          148,
          149,
          150,
          151,
          152,
          153,
          154,
          155,
          156,
          157,
          158,
          159,
          160,
          161,
          162,
          163,
          164,
          165,
          166,
          167,
          168,
          169,
          170,
          171,
          172,
          173,
          174,
          175,
          176,
          177,
          178,
          179,
          180,
          181,
          182,
          183,
          184,
          185,
          186,
          187,
          188,
          189,
          190,
          191,
          192,
          193,
          194,
          195,
          196,
          197,
          198,
          199,
          200,
          201,
          202,
          203,
          204,
          205,
          206,
          207,
          208,
          209,
          210
         ],
         "y": [
          1347318,
          262783,
          218268,
          215260,
          209688,
          176658,
          171324,
          156061,
          137115,
          106220,
          67702,
          65015,
          62939,
          52596,
          42382,
          37136,
          33460,
          30251,
          29465,
          29071,
          27406,
          27219,
          25921,
          23336,
          22760,
          22052,
          21331,
          17417,
          16458,
          15833,
          15821,
          15663,
          15232,
          15131,
          14032,
          13770,
          10874,
          10794,
          10495,
          10319,
          10032,
          9882,
          9420,
          8964,
          8282,
          8099,
          8095,
          7623,
          6939,
          6656,
          5910,
          5880,
          5776,
          5558,
          5056,
          4867,
          4774,
          4263,
          4151,
          4033,
          3877,
          3399,
          3313,
          3263,
          3009,
          2710,
          2679,
          2437,
          2422,
          2387,
          2274,
          2176,
          2090,
          2042,
          1955,
          1830,
          1801,
          1754,
          1739,
          1667,
          1634,
          1622,
          1494,
          1457,
          1454,
          1444,
          1189,
          1164,
          1045,
          1032,
          1002,
          997,
          988,
          967,
          939,
          937,
          892,
          889,
          856,
          847,
          815,
          809,
          790,
          780,
          754,
          748,
          712,
          702,
          692,
          689,
          661,
          649,
          641,
          637,
          635,
          612,
          545,
          522,
          509,
          498,
          490,
          440,
          439,
          431,
          402,
          375,
          332,
          330,
          324,
          322,
          291,
          288,
          284,
          280,
          274,
          252,
          236,
          210,
          208,
          199,
          193,
          187,
          186,
          178,
          163,
          154,
          153,
          151,
          146,
          144,
          143,
          141,
          122,
          120,
          118,
          116,
          116,
          110,
          101,
          97,
          96,
          92,
          87,
          84,
          82,
          81,
          76,
          64,
          60,
          56,
          47,
          45,
          43,
          42,
          39,
          39,
          36,
          34,
          25,
          24,
          23,
          21,
          20,
          19,
          18,
          18,
          18,
          18,
          17,
          16,
          16,
          16,
          16,
          15,
          15,
          13,
          12,
          12,
          11,
          11,
          11,
          11,
          10,
          9,
          8,
          8,
          7,
          7,
          6,
          6,
          6
         ]
        },
        {
         "line": {
          "color": "rgba(55, 128, 191, 1.0)",
          "dash": "solid",
          "shape": "linear",
          "width": 1.3
         },
         "mode": "lines",
         "name": "New_cases",
         "text": "",
         "type": "scatter",
         "x": [
          0,
          1,
          2,
          3,
          4,
          5,
          6,
          7,
          8,
          9,
          10,
          11,
          12,
          13,
          14,
          15,
          16,
          17,
          18,
          19,
          20,
          21,
          22,
          23,
          24,
          25,
          26,
          27,
          28,
          29,
          30,
          31,
          32,
          33,
          34,
          35,
          36,
          37,
          38,
          39,
          40,
          41,
          42,
          43,
          44,
          45,
          46,
          47,
          48,
          49,
          50,
          51,
          52,
          53,
          54,
          55,
          56,
          57,
          58,
          59,
          60,
          61,
          62,
          63,
          64,
          65,
          66,
          67,
          68,
          69,
          70,
          71,
          72,
          73,
          74,
          75,
          76,
          77,
          78,
          79,
          80,
          81,
          82,
          83,
          84,
          85,
          86,
          87,
          88,
          89,
          90,
          91,
          92,
          93,
          94,
          95,
          96,
          97,
          98,
          99,
          100,
          101,
          102,
          103,
          104,
          105,
          106,
          107,
          108,
          109,
          110,
          111,
          112,
          113,
          114,
          115,
          116,
          117,
          118,
          119,
          120,
          121,
          122,
          123,
          124,
          125,
          126,
          127,
          128,
          129,
          130,
          131,
          132,
          133,
          134,
          135,
          136,
          137,
          138,
          139,
          140,
          141,
          142,
          143,
          144,
          145,
          146,
          147,
          148,
          149,
          150,
          151,
          152,
          153,
          154,
          155,
          156,
          157,
          158,
          159,
          160,
          161,
          162,
          163,
          164,
          165,
          166,
          167,
          168,
          169,
          170,
          171,
          172,
          173,
          174,
          175,
          176,
          177,
          178,
          179,
          180,
          181,
          182,
          183,
          184,
          185,
          186,
          187,
          188,
          189,
          190,
          191,
          192,
          193,
          194,
          195,
          196,
          197,
          198,
          199,
          200,
          201,
          202,
          203,
          204,
          205,
          206,
          207,
          208,
          209,
          210
         ],
         "y": [
          9,
          0,
          0,
          0,
          11012,
          0,
          0,
          0,
          0,
          0,
          0,
          0,
          131,
          0,
          0,
          0,
          1938,
          0,
          729,
          0,
          0,
          0,
          0,
          876,
          0,
          0,
          0,
          0,
          4,
          0,
          170,
          0,
          522,
          0,
          387,
          0,
          34,
          184,
          0,
          0,
          0,
          0,
          0,
          0,
          212,
          0,
          0,
          0,
          10,
          67,
          0,
          0,
          0,
          0,
          81,
          0,
          0,
          0,
          0,
          0,
          0,
          175,
          138,
          50,
          5,
          0,
          0,
          171,
          0,
          38,
          0,
          0,
          0,
          0,
          34,
          59,
          0,
          0,
          6,
          0,
          0,
          0,
          2,
          2,
          0,
          0,
          0,
          0,
          0,
          0,
          71,
          0,
          0,
          67,
          9,
          0,
          0,
          105,
          0,
          0,
          0,
          0,
          0,
          0,
          0,
          0,
          0,
          0,
          0,
          0,
          0,
          0,
          0,
          0,
          9,
          0,
          0,
          0,
          0,
          8,
          0,
          0,
          0,
          0,
          0,
          0,
          0,
          1,
          0,
          0,
          0,
          0,
          0,
          0,
          0,
          0,
          0,
          0,
          0,
          0,
          0,
          0,
          0,
          0,
          0,
          0,
          0,
          0,
          0,
          3,
          0,
          0,
          0,
          0,
          0,
          0,
          0,
          1,
          0,
          3,
          0,
          0,
          0,
          0,
          0,
          0,
          0,
          0,
          0,
          0,
          0,
          0,
          0,
          0,
          0,
          0,
          1,
          0,
          0,
          0,
          0,
          0,
          0,
          0,
          0,
          0,
          0,
          0,
          0,
          0,
          0,
          0,
          0,
          0,
          0,
          0,
          0,
          0,
          0,
          0,
          0,
          0,
          0,
          0,
          0,
          0,
          0,
          0,
          0,
          0,
          0
         ]
        }
       ],
       "layout": {
        "legend": {
         "bgcolor": "#F5F6F9",
         "font": {
          "color": "#4D5663"
         }
        },
        "paper_bgcolor": "#F5F6F9",
        "plot_bgcolor": "#F5F6F9",
        "template": {
         "data": {
          "bar": [
           {
            "error_x": {
             "color": "#2a3f5f"
            },
            "error_y": {
             "color": "#2a3f5f"
            },
            "marker": {
             "line": {
              "color": "#E5ECF6",
              "width": 0.5
             }
            },
            "type": "bar"
           }
          ],
          "barpolar": [
           {
            "marker": {
             "line": {
              "color": "#E5ECF6",
              "width": 0.5
             }
            },
            "type": "barpolar"
           }
          ],
          "carpet": [
           {
            "aaxis": {
             "endlinecolor": "#2a3f5f",
             "gridcolor": "white",
             "linecolor": "white",
             "minorgridcolor": "white",
             "startlinecolor": "#2a3f5f"
            },
            "baxis": {
             "endlinecolor": "#2a3f5f",
             "gridcolor": "white",
             "linecolor": "white",
             "minorgridcolor": "white",
             "startlinecolor": "#2a3f5f"
            },
            "type": "carpet"
           }
          ],
          "choropleth": [
           {
            "colorbar": {
             "outlinewidth": 0,
             "ticks": ""
            },
            "type": "choropleth"
           }
          ],
          "contour": [
           {
            "colorbar": {
             "outlinewidth": 0,
             "ticks": ""
            },
            "colorscale": [
             [
              0,
              "#0d0887"
             ],
             [
              0.1111111111111111,
              "#46039f"
             ],
             [
              0.2222222222222222,
              "#7201a8"
             ],
             [
              0.3333333333333333,
              "#9c179e"
             ],
             [
              0.4444444444444444,
              "#bd3786"
             ],
             [
              0.5555555555555556,
              "#d8576b"
             ],
             [
              0.6666666666666666,
              "#ed7953"
             ],
             [
              0.7777777777777778,
              "#fb9f3a"
             ],
             [
              0.8888888888888888,
              "#fdca26"
             ],
             [
              1,
              "#f0f921"
             ]
            ],
            "type": "contour"
           }
          ],
          "contourcarpet": [
           {
            "colorbar": {
             "outlinewidth": 0,
             "ticks": ""
            },
            "type": "contourcarpet"
           }
          ],
          "heatmap": [
           {
            "colorbar": {
             "outlinewidth": 0,
             "ticks": ""
            },
            "colorscale": [
             [
              0,
              "#0d0887"
             ],
             [
              0.1111111111111111,
              "#46039f"
             ],
             [
              0.2222222222222222,
              "#7201a8"
             ],
             [
              0.3333333333333333,
              "#9c179e"
             ],
             [
              0.4444444444444444,
              "#bd3786"
             ],
             [
              0.5555555555555556,
              "#d8576b"
             ],
             [
              0.6666666666666666,
              "#ed7953"
             ],
             [
              0.7777777777777778,
              "#fb9f3a"
             ],
             [
              0.8888888888888888,
              "#fdca26"
             ],
             [
              1,
              "#f0f921"
             ]
            ],
            "type": "heatmap"
           }
          ],
          "heatmapgl": [
           {
            "colorbar": {
             "outlinewidth": 0,
             "ticks": ""
            },
            "colorscale": [
             [
              0,
              "#0d0887"
             ],
             [
              0.1111111111111111,
              "#46039f"
             ],
             [
              0.2222222222222222,
              "#7201a8"
             ],
             [
              0.3333333333333333,
              "#9c179e"
             ],
             [
              0.4444444444444444,
              "#bd3786"
             ],
             [
              0.5555555555555556,
              "#d8576b"
             ],
             [
              0.6666666666666666,
              "#ed7953"
             ],
             [
              0.7777777777777778,
              "#fb9f3a"
             ],
             [
              0.8888888888888888,
              "#fdca26"
             ],
             [
              1,
              "#f0f921"
             ]
            ],
            "type": "heatmapgl"
           }
          ],
          "histogram": [
           {
            "marker": {
             "colorbar": {
              "outlinewidth": 0,
              "ticks": ""
             }
            },
            "type": "histogram"
           }
          ],
          "histogram2d": [
           {
            "colorbar": {
             "outlinewidth": 0,
             "ticks": ""
            },
            "colorscale": [
             [
              0,
              "#0d0887"
             ],
             [
              0.1111111111111111,
              "#46039f"
             ],
             [
              0.2222222222222222,
              "#7201a8"
             ],
             [
              0.3333333333333333,
              "#9c179e"
             ],
             [
              0.4444444444444444,
              "#bd3786"
             ],
             [
              0.5555555555555556,
              "#d8576b"
             ],
             [
              0.6666666666666666,
              "#ed7953"
             ],
             [
              0.7777777777777778,
              "#fb9f3a"
             ],
             [
              0.8888888888888888,
              "#fdca26"
             ],
             [
              1,
              "#f0f921"
             ]
            ],
            "type": "histogram2d"
           }
          ],
          "histogram2dcontour": [
           {
            "colorbar": {
             "outlinewidth": 0,
             "ticks": ""
            },
            "colorscale": [
             [
              0,
              "#0d0887"
             ],
             [
              0.1111111111111111,
              "#46039f"
             ],
             [
              0.2222222222222222,
              "#7201a8"
             ],
             [
              0.3333333333333333,
              "#9c179e"
             ],
             [
              0.4444444444444444,
              "#bd3786"
             ],
             [
              0.5555555555555556,
              "#d8576b"
             ],
             [
              0.6666666666666666,
              "#ed7953"
             ],
             [
              0.7777777777777778,
              "#fb9f3a"
             ],
             [
              0.8888888888888888,
              "#fdca26"
             ],
             [
              1,
              "#f0f921"
             ]
            ],
            "type": "histogram2dcontour"
           }
          ],
          "mesh3d": [
           {
            "colorbar": {
             "outlinewidth": 0,
             "ticks": ""
            },
            "type": "mesh3d"
           }
          ],
          "parcoords": [
           {
            "line": {
             "colorbar": {
              "outlinewidth": 0,
              "ticks": ""
             }
            },
            "type": "parcoords"
           }
          ],
          "pie": [
           {
            "automargin": true,
            "type": "pie"
           }
          ],
          "scatter": [
           {
            "marker": {
             "colorbar": {
              "outlinewidth": 0,
              "ticks": ""
             }
            },
            "type": "scatter"
           }
          ],
          "scatter3d": [
           {
            "line": {
             "colorbar": {
              "outlinewidth": 0,
              "ticks": ""
             }
            },
            "marker": {
             "colorbar": {
              "outlinewidth": 0,
              "ticks": ""
             }
            },
            "type": "scatter3d"
           }
          ],
          "scattercarpet": [
           {
            "marker": {
             "colorbar": {
              "outlinewidth": 0,
              "ticks": ""
             }
            },
            "type": "scattercarpet"
           }
          ],
          "scattergeo": [
           {
            "marker": {
             "colorbar": {
              "outlinewidth": 0,
              "ticks": ""
             }
            },
            "type": "scattergeo"
           }
          ],
          "scattergl": [
           {
            "marker": {
             "colorbar": {
              "outlinewidth": 0,
              "ticks": ""
             }
            },
            "type": "scattergl"
           }
          ],
          "scattermapbox": [
           {
            "marker": {
             "colorbar": {
              "outlinewidth": 0,
              "ticks": ""
             }
            },
            "type": "scattermapbox"
           }
          ],
          "scatterpolar": [
           {
            "marker": {
             "colorbar": {
              "outlinewidth": 0,
              "ticks": ""
             }
            },
            "type": "scatterpolar"
           }
          ],
          "scatterpolargl": [
           {
            "marker": {
             "colorbar": {
              "outlinewidth": 0,
              "ticks": ""
             }
            },
            "type": "scatterpolargl"
           }
          ],
          "scatterternary": [
           {
            "marker": {
             "colorbar": {
              "outlinewidth": 0,
              "ticks": ""
             }
            },
            "type": "scatterternary"
           }
          ],
          "surface": [
           {
            "colorbar": {
             "outlinewidth": 0,
             "ticks": ""
            },
            "colorscale": [
             [
              0,
              "#0d0887"
             ],
             [
              0.1111111111111111,
              "#46039f"
             ],
             [
              0.2222222222222222,
              "#7201a8"
             ],
             [
              0.3333333333333333,
              "#9c179e"
             ],
             [
              0.4444444444444444,
              "#bd3786"
             ],
             [
              0.5555555555555556,
              "#d8576b"
             ],
             [
              0.6666666666666666,
              "#ed7953"
             ],
             [
              0.7777777777777778,
              "#fb9f3a"
             ],
             [
              0.8888888888888888,
              "#fdca26"
             ],
             [
              1,
              "#f0f921"
             ]
            ],
            "type": "surface"
           }
          ],
          "table": [
           {
            "cells": {
             "fill": {
              "color": "#EBF0F8"
             },
             "line": {
              "color": "white"
             }
            },
            "header": {
             "fill": {
              "color": "#C8D4E3"
             },
             "line": {
              "color": "white"
             }
            },
            "type": "table"
           }
          ]
         },
         "layout": {
          "annotationdefaults": {
           "arrowcolor": "#2a3f5f",
           "arrowhead": 0,
           "arrowwidth": 1
          },
          "coloraxis": {
           "colorbar": {
            "outlinewidth": 0,
            "ticks": ""
           }
          },
          "colorscale": {
           "diverging": [
            [
             0,
             "#8e0152"
            ],
            [
             0.1,
             "#c51b7d"
            ],
            [
             0.2,
             "#de77ae"
            ],
            [
             0.3,
             "#f1b6da"
            ],
            [
             0.4,
             "#fde0ef"
            ],
            [
             0.5,
             "#f7f7f7"
            ],
            [
             0.6,
             "#e6f5d0"
            ],
            [
             0.7,
             "#b8e186"
            ],
            [
             0.8,
             "#7fbc41"
            ],
            [
             0.9,
             "#4d9221"
            ],
            [
             1,
             "#276419"
            ]
           ],
           "sequential": [
            [
             0,
             "#0d0887"
            ],
            [
             0.1111111111111111,
             "#46039f"
            ],
            [
             0.2222222222222222,
             "#7201a8"
            ],
            [
             0.3333333333333333,
             "#9c179e"
            ],
            [
             0.4444444444444444,
             "#bd3786"
            ],
            [
             0.5555555555555556,
             "#d8576b"
            ],
            [
             0.6666666666666666,
             "#ed7953"
            ],
            [
             0.7777777777777778,
             "#fb9f3a"
            ],
            [
             0.8888888888888888,
             "#fdca26"
            ],
            [
             1,
             "#f0f921"
            ]
           ],
           "sequentialminus": [
            [
             0,
             "#0d0887"
            ],
            [
             0.1111111111111111,
             "#46039f"
            ],
            [
             0.2222222222222222,
             "#7201a8"
            ],
            [
             0.3333333333333333,
             "#9c179e"
            ],
            [
             0.4444444444444444,
             "#bd3786"
            ],
            [
             0.5555555555555556,
             "#d8576b"
            ],
            [
             0.6666666666666666,
             "#ed7953"
            ],
            [
             0.7777777777777778,
             "#fb9f3a"
            ],
            [
             0.8888888888888888,
             "#fdca26"
            ],
            [
             1,
             "#f0f921"
            ]
           ]
          },
          "colorway": [
           "#636efa",
           "#EF553B",
           "#00cc96",
           "#ab63fa",
           "#FFA15A",
           "#19d3f3",
           "#FF6692",
           "#B6E880",
           "#FF97FF",
           "#FECB52"
          ],
          "font": {
           "color": "#2a3f5f"
          },
          "geo": {
           "bgcolor": "white",
           "lakecolor": "white",
           "landcolor": "#E5ECF6",
           "showlakes": true,
           "showland": true,
           "subunitcolor": "white"
          },
          "hoverlabel": {
           "align": "left"
          },
          "hovermode": "closest",
          "mapbox": {
           "style": "light"
          },
          "paper_bgcolor": "white",
          "plot_bgcolor": "#E5ECF6",
          "polar": {
           "angularaxis": {
            "gridcolor": "white",
            "linecolor": "white",
            "ticks": ""
           },
           "bgcolor": "#E5ECF6",
           "radialaxis": {
            "gridcolor": "white",
            "linecolor": "white",
            "ticks": ""
           }
          },
          "scene": {
           "xaxis": {
            "backgroundcolor": "#E5ECF6",
            "gridcolor": "white",
            "gridwidth": 2,
            "linecolor": "white",
            "showbackground": true,
            "ticks": "",
            "zerolinecolor": "white"
           },
           "yaxis": {
            "backgroundcolor": "#E5ECF6",
            "gridcolor": "white",
            "gridwidth": 2,
            "linecolor": "white",
            "showbackground": true,
            "ticks": "",
            "zerolinecolor": "white"
           },
           "zaxis": {
            "backgroundcolor": "#E5ECF6",
            "gridcolor": "white",
            "gridwidth": 2,
            "linecolor": "white",
            "showbackground": true,
            "ticks": "",
            "zerolinecolor": "white"
           }
          },
          "shapedefaults": {
           "line": {
            "color": "#2a3f5f"
           }
          },
          "ternary": {
           "aaxis": {
            "gridcolor": "white",
            "linecolor": "white",
            "ticks": ""
           },
           "baxis": {
            "gridcolor": "white",
            "linecolor": "white",
            "ticks": ""
           },
           "bgcolor": "#E5ECF6",
           "caxis": {
            "gridcolor": "white",
            "linecolor": "white",
            "ticks": ""
           }
          },
          "title": {
           "x": 0.05
          },
          "xaxis": {
           "automargin": true,
           "gridcolor": "white",
           "linecolor": "white",
           "ticks": "",
           "title": {
            "standoff": 15
           },
           "zerolinecolor": "white",
           "zerolinewidth": 2
          },
          "yaxis": {
           "automargin": true,
           "gridcolor": "white",
           "linecolor": "white",
           "ticks": "",
           "title": {
            "standoff": 15
           },
           "zerolinecolor": "white",
           "zerolinewidth": 2
          }
         }
        },
        "title": {
         "font": {
          "color": "#4D5663"
         }
        },
        "xaxis": {
         "gridcolor": "#E1E5ED",
         "showgrid": true,
         "tickfont": {
          "color": "#4D5663"
         },
         "title": {
          "font": {
           "color": "#4D5663"
          },
          "text": ""
         },
         "zerolinecolor": "#E1E5ED"
        },
        "yaxis": {
         "gridcolor": "#E1E5ED",
         "showgrid": true,
         "tickfont": {
          "color": "#4D5663"
         },
         "title": {
          "font": {
           "color": "#4D5663"
          },
          "text": ""
         },
         "zerolinecolor": "#E1E5ED"
        }
       }
      },
      "text/html": [
       "<div>\n",
       "        \n",
       "        \n",
       "            <div id=\"6e085f0d-b6f3-48ec-a36f-2e30f6058298\" class=\"plotly-graph-div\" style=\"height:525px; width:100%;\"></div>\n",
       "            <script type=\"text/javascript\">\n",
       "                require([\"plotly\"], function(Plotly) {\n",
       "                    window.PLOTLYENV=window.PLOTLYENV || {};\n",
       "                    window.PLOTLYENV.BASE_URL='https://plot.ly';\n",
       "                    \n",
       "                if (document.getElementById(\"6e085f0d-b6f3-48ec-a36f-2e30f6058298\")) {\n",
       "                    Plotly.newPlot(\n",
       "                        '6e085f0d-b6f3-48ec-a36f-2e30f6058298',\n",
       "                        [{\"line\": {\"color\": \"rgba(255, 153, 51, 1.0)\", \"dash\": \"solid\", \"shape\": \"linear\", \"width\": 1.3}, \"mode\": \"lines\", \"name\": \"Total_cases\", \"text\": \"\", \"type\": \"scatter\", \"x\": [0, 1, 2, 3, 4, 5, 6, 7, 8, 9, 10, 11, 12, 13, 14, 15, 16, 17, 18, 19, 20, 21, 22, 23, 24, 25, 26, 27, 28, 29, 30, 31, 32, 33, 34, 35, 36, 37, 38, 39, 40, 41, 42, 43, 44, 45, 46, 47, 48, 49, 50, 51, 52, 53, 54, 55, 56, 57, 58, 59, 60, 61, 62, 63, 64, 65, 66, 67, 68, 69, 70, 71, 72, 73, 74, 75, 76, 77, 78, 79, 80, 81, 82, 83, 84, 85, 86, 87, 88, 89, 90, 91, 92, 93, 94, 95, 96, 97, 98, 99, 100, 101, 102, 103, 104, 105, 106, 107, 108, 109, 110, 111, 112, 113, 114, 115, 116, 117, 118, 119, 120, 121, 122, 123, 124, 125, 126, 127, 128, 129, 130, 131, 132, 133, 134, 135, 136, 137, 138, 139, 140, 141, 142, 143, 144, 145, 146, 147, 148, 149, 150, 151, 152, 153, 154, 155, 156, 157, 158, 159, 160, 161, 162, 163, 164, 165, 166, 167, 168, 169, 170, 171, 172, 173, 174, 175, 176, 177, 178, 179, 180, 181, 182, 183, 184, 185, 186, 187, 188, 189, 190, 191, 192, 193, 194, 195, 196, 197, 198, 199, 200, 201, 202, 203, 204, 205, 206, 207, 208, 209, 210], \"y\": [1347318, 262783, 218268, 215260, 209688, 176658, 171324, 156061, 137115, 106220, 67702, 65015, 62939, 52596, 42382, 37136, 33460, 30251, 29465, 29071, 27406, 27219, 25921, 23336, 22760, 22052, 21331, 17417, 16458, 15833, 15821, 15663, 15232, 15131, 14032, 13770, 10874, 10794, 10495, 10319, 10032, 9882, 9420, 8964, 8282, 8099, 8095, 7623, 6939, 6656, 5910, 5880, 5776, 5558, 5056, 4867, 4774, 4263, 4151, 4033, 3877, 3399, 3313, 3263, 3009, 2710, 2679, 2437, 2422, 2387, 2274, 2176, 2090, 2042, 1955, 1830, 1801, 1754, 1739, 1667, 1634, 1622, 1494, 1457, 1454, 1444, 1189, 1164, 1045, 1032, 1002, 997, 988, 967, 939, 937, 892, 889, 856, 847, 815, 809, 790, 780, 754, 748, 712, 702, 692, 689, 661, 649, 641, 637, 635, 612, 545, 522, 509, 498, 490, 440, 439, 431, 402, 375, 332, 330, 324, 322, 291, 288, 284, 280, 274, 252, 236, 210, 208, 199, 193, 187, 186, 178, 163, 154, 153, 151, 146, 144, 143, 141, 122, 120, 118, 116, 116, 110, 101, 97, 96, 92, 87, 84, 82, 81, 76, 64, 60, 56, 47, 45, 43, 42, 39, 39, 36, 34, 25, 24, 23, 21, 20, 19, 18, 18, 18, 18, 17, 16, 16, 16, 16, 15, 15, 13, 12, 12, 11, 11, 11, 11, 10, 9, 8, 8, 7, 7, 6, 6, 6]}, {\"line\": {\"color\": \"rgba(55, 128, 191, 1.0)\", \"dash\": \"solid\", \"shape\": \"linear\", \"width\": 1.3}, \"mode\": \"lines\", \"name\": \"New_cases\", \"text\": \"\", \"type\": \"scatter\", \"x\": [0, 1, 2, 3, 4, 5, 6, 7, 8, 9, 10, 11, 12, 13, 14, 15, 16, 17, 18, 19, 20, 21, 22, 23, 24, 25, 26, 27, 28, 29, 30, 31, 32, 33, 34, 35, 36, 37, 38, 39, 40, 41, 42, 43, 44, 45, 46, 47, 48, 49, 50, 51, 52, 53, 54, 55, 56, 57, 58, 59, 60, 61, 62, 63, 64, 65, 66, 67, 68, 69, 70, 71, 72, 73, 74, 75, 76, 77, 78, 79, 80, 81, 82, 83, 84, 85, 86, 87, 88, 89, 90, 91, 92, 93, 94, 95, 96, 97, 98, 99, 100, 101, 102, 103, 104, 105, 106, 107, 108, 109, 110, 111, 112, 113, 114, 115, 116, 117, 118, 119, 120, 121, 122, 123, 124, 125, 126, 127, 128, 129, 130, 131, 132, 133, 134, 135, 136, 137, 138, 139, 140, 141, 142, 143, 144, 145, 146, 147, 148, 149, 150, 151, 152, 153, 154, 155, 156, 157, 158, 159, 160, 161, 162, 163, 164, 165, 166, 167, 168, 169, 170, 171, 172, 173, 174, 175, 176, 177, 178, 179, 180, 181, 182, 183, 184, 185, 186, 187, 188, 189, 190, 191, 192, 193, 194, 195, 196, 197, 198, 199, 200, 201, 202, 203, 204, 205, 206, 207, 208, 209, 210], \"y\": [9, 0, 0, 0, 11012, 0, 0, 0, 0, 0, 0, 0, 131, 0, 0, 0, 1938, 0, 729, 0, 0, 0, 0, 876, 0, 0, 0, 0, 4, 0, 170, 0, 522, 0, 387, 0, 34, 184, 0, 0, 0, 0, 0, 0, 212, 0, 0, 0, 10, 67, 0, 0, 0, 0, 81, 0, 0, 0, 0, 0, 0, 175, 138, 50, 5, 0, 0, 171, 0, 38, 0, 0, 0, 0, 34, 59, 0, 0, 6, 0, 0, 0, 2, 2, 0, 0, 0, 0, 0, 0, 71, 0, 0, 67, 9, 0, 0, 105, 0, 0, 0, 0, 0, 0, 0, 0, 0, 0, 0, 0, 0, 0, 0, 0, 9, 0, 0, 0, 0, 8, 0, 0, 0, 0, 0, 0, 0, 1, 0, 0, 0, 0, 0, 0, 0, 0, 0, 0, 0, 0, 0, 0, 0, 0, 0, 0, 0, 0, 0, 3, 0, 0, 0, 0, 0, 0, 0, 1, 0, 3, 0, 0, 0, 0, 0, 0, 0, 0, 0, 0, 0, 0, 0, 0, 0, 0, 1, 0, 0, 0, 0, 0, 0, 0, 0, 0, 0, 0, 0, 0, 0, 0, 0, 0, 0, 0, 0, 0, 0, 0, 0, 0, 0, 0, 0, 0, 0, 0, 0, 0, 0]}],\n",
       "                        {\"legend\": {\"bgcolor\": \"#F5F6F9\", \"font\": {\"color\": \"#4D5663\"}}, \"paper_bgcolor\": \"#F5F6F9\", \"plot_bgcolor\": \"#F5F6F9\", \"template\": {\"data\": {\"bar\": [{\"error_x\": {\"color\": \"#2a3f5f\"}, \"error_y\": {\"color\": \"#2a3f5f\"}, \"marker\": {\"line\": {\"color\": \"#E5ECF6\", \"width\": 0.5}}, \"type\": \"bar\"}], \"barpolar\": [{\"marker\": {\"line\": {\"color\": \"#E5ECF6\", \"width\": 0.5}}, \"type\": \"barpolar\"}], \"carpet\": [{\"aaxis\": {\"endlinecolor\": \"#2a3f5f\", \"gridcolor\": \"white\", \"linecolor\": \"white\", \"minorgridcolor\": \"white\", \"startlinecolor\": \"#2a3f5f\"}, \"baxis\": {\"endlinecolor\": \"#2a3f5f\", \"gridcolor\": \"white\", \"linecolor\": \"white\", \"minorgridcolor\": \"white\", \"startlinecolor\": \"#2a3f5f\"}, \"type\": \"carpet\"}], \"choropleth\": [{\"colorbar\": {\"outlinewidth\": 0, \"ticks\": \"\"}, \"type\": \"choropleth\"}], \"contour\": [{\"colorbar\": {\"outlinewidth\": 0, \"ticks\": \"\"}, \"colorscale\": [[0.0, \"#0d0887\"], [0.1111111111111111, \"#46039f\"], [0.2222222222222222, \"#7201a8\"], [0.3333333333333333, \"#9c179e\"], [0.4444444444444444, \"#bd3786\"], [0.5555555555555556, \"#d8576b\"], [0.6666666666666666, \"#ed7953\"], [0.7777777777777778, \"#fb9f3a\"], [0.8888888888888888, \"#fdca26\"], [1.0, \"#f0f921\"]], \"type\": \"contour\"}], \"contourcarpet\": [{\"colorbar\": {\"outlinewidth\": 0, \"ticks\": \"\"}, \"type\": \"contourcarpet\"}], \"heatmap\": [{\"colorbar\": {\"outlinewidth\": 0, \"ticks\": \"\"}, \"colorscale\": [[0.0, \"#0d0887\"], [0.1111111111111111, \"#46039f\"], [0.2222222222222222, \"#7201a8\"], [0.3333333333333333, \"#9c179e\"], [0.4444444444444444, \"#bd3786\"], [0.5555555555555556, \"#d8576b\"], [0.6666666666666666, \"#ed7953\"], [0.7777777777777778, \"#fb9f3a\"], [0.8888888888888888, \"#fdca26\"], [1.0, \"#f0f921\"]], \"type\": \"heatmap\"}], \"heatmapgl\": [{\"colorbar\": {\"outlinewidth\": 0, \"ticks\": \"\"}, \"colorscale\": [[0.0, \"#0d0887\"], [0.1111111111111111, \"#46039f\"], [0.2222222222222222, \"#7201a8\"], [0.3333333333333333, \"#9c179e\"], [0.4444444444444444, \"#bd3786\"], [0.5555555555555556, \"#d8576b\"], [0.6666666666666666, \"#ed7953\"], [0.7777777777777778, \"#fb9f3a\"], [0.8888888888888888, \"#fdca26\"], [1.0, \"#f0f921\"]], \"type\": \"heatmapgl\"}], \"histogram\": [{\"marker\": {\"colorbar\": {\"outlinewidth\": 0, \"ticks\": \"\"}}, \"type\": \"histogram\"}], \"histogram2d\": [{\"colorbar\": {\"outlinewidth\": 0, \"ticks\": \"\"}, \"colorscale\": [[0.0, \"#0d0887\"], [0.1111111111111111, \"#46039f\"], [0.2222222222222222, \"#7201a8\"], [0.3333333333333333, \"#9c179e\"], [0.4444444444444444, \"#bd3786\"], [0.5555555555555556, \"#d8576b\"], [0.6666666666666666, \"#ed7953\"], [0.7777777777777778, \"#fb9f3a\"], [0.8888888888888888, \"#fdca26\"], [1.0, \"#f0f921\"]], \"type\": \"histogram2d\"}], \"histogram2dcontour\": [{\"colorbar\": {\"outlinewidth\": 0, \"ticks\": \"\"}, \"colorscale\": [[0.0, \"#0d0887\"], [0.1111111111111111, \"#46039f\"], [0.2222222222222222, \"#7201a8\"], [0.3333333333333333, \"#9c179e\"], [0.4444444444444444, \"#bd3786\"], [0.5555555555555556, \"#d8576b\"], [0.6666666666666666, \"#ed7953\"], [0.7777777777777778, \"#fb9f3a\"], [0.8888888888888888, \"#fdca26\"], [1.0, \"#f0f921\"]], \"type\": \"histogram2dcontour\"}], \"mesh3d\": [{\"colorbar\": {\"outlinewidth\": 0, \"ticks\": \"\"}, \"type\": \"mesh3d\"}], \"parcoords\": [{\"line\": {\"colorbar\": {\"outlinewidth\": 0, \"ticks\": \"\"}}, \"type\": \"parcoords\"}], \"pie\": [{\"automargin\": true, \"type\": \"pie\"}], \"scatter\": [{\"marker\": {\"colorbar\": {\"outlinewidth\": 0, \"ticks\": \"\"}}, \"type\": \"scatter\"}], \"scatter3d\": [{\"line\": {\"colorbar\": {\"outlinewidth\": 0, \"ticks\": \"\"}}, \"marker\": {\"colorbar\": {\"outlinewidth\": 0, \"ticks\": \"\"}}, \"type\": \"scatter3d\"}], \"scattercarpet\": [{\"marker\": {\"colorbar\": {\"outlinewidth\": 0, \"ticks\": \"\"}}, \"type\": \"scattercarpet\"}], \"scattergeo\": [{\"marker\": {\"colorbar\": {\"outlinewidth\": 0, \"ticks\": \"\"}}, \"type\": \"scattergeo\"}], \"scattergl\": [{\"marker\": {\"colorbar\": {\"outlinewidth\": 0, \"ticks\": \"\"}}, \"type\": \"scattergl\"}], \"scattermapbox\": [{\"marker\": {\"colorbar\": {\"outlinewidth\": 0, \"ticks\": \"\"}}, \"type\": \"scattermapbox\"}], \"scatterpolar\": [{\"marker\": {\"colorbar\": {\"outlinewidth\": 0, \"ticks\": \"\"}}, \"type\": \"scatterpolar\"}], \"scatterpolargl\": [{\"marker\": {\"colorbar\": {\"outlinewidth\": 0, \"ticks\": \"\"}}, \"type\": \"scatterpolargl\"}], \"scatterternary\": [{\"marker\": {\"colorbar\": {\"outlinewidth\": 0, \"ticks\": \"\"}}, \"type\": \"scatterternary\"}], \"surface\": [{\"colorbar\": {\"outlinewidth\": 0, \"ticks\": \"\"}, \"colorscale\": [[0.0, \"#0d0887\"], [0.1111111111111111, \"#46039f\"], [0.2222222222222222, \"#7201a8\"], [0.3333333333333333, \"#9c179e\"], [0.4444444444444444, \"#bd3786\"], [0.5555555555555556, \"#d8576b\"], [0.6666666666666666, \"#ed7953\"], [0.7777777777777778, \"#fb9f3a\"], [0.8888888888888888, \"#fdca26\"], [1.0, \"#f0f921\"]], \"type\": \"surface\"}], \"table\": [{\"cells\": {\"fill\": {\"color\": \"#EBF0F8\"}, \"line\": {\"color\": \"white\"}}, \"header\": {\"fill\": {\"color\": \"#C8D4E3\"}, \"line\": {\"color\": \"white\"}}, \"type\": \"table\"}]}, \"layout\": {\"annotationdefaults\": {\"arrowcolor\": \"#2a3f5f\", \"arrowhead\": 0, \"arrowwidth\": 1}, \"coloraxis\": {\"colorbar\": {\"outlinewidth\": 0, \"ticks\": \"\"}}, \"colorscale\": {\"diverging\": [[0, \"#8e0152\"], [0.1, \"#c51b7d\"], [0.2, \"#de77ae\"], [0.3, \"#f1b6da\"], [0.4, \"#fde0ef\"], [0.5, \"#f7f7f7\"], [0.6, \"#e6f5d0\"], [0.7, \"#b8e186\"], [0.8, \"#7fbc41\"], [0.9, \"#4d9221\"], [1, \"#276419\"]], \"sequential\": [[0.0, \"#0d0887\"], [0.1111111111111111, \"#46039f\"], [0.2222222222222222, \"#7201a8\"], [0.3333333333333333, \"#9c179e\"], [0.4444444444444444, \"#bd3786\"], [0.5555555555555556, \"#d8576b\"], [0.6666666666666666, \"#ed7953\"], [0.7777777777777778, \"#fb9f3a\"], [0.8888888888888888, \"#fdca26\"], [1.0, \"#f0f921\"]], \"sequentialminus\": [[0.0, \"#0d0887\"], [0.1111111111111111, \"#46039f\"], [0.2222222222222222, \"#7201a8\"], [0.3333333333333333, \"#9c179e\"], [0.4444444444444444, \"#bd3786\"], [0.5555555555555556, \"#d8576b\"], [0.6666666666666666, \"#ed7953\"], [0.7777777777777778, \"#fb9f3a\"], [0.8888888888888888, \"#fdca26\"], [1.0, \"#f0f921\"]]}, \"colorway\": [\"#636efa\", \"#EF553B\", \"#00cc96\", \"#ab63fa\", \"#FFA15A\", \"#19d3f3\", \"#FF6692\", \"#B6E880\", \"#FF97FF\", \"#FECB52\"], \"font\": {\"color\": \"#2a3f5f\"}, \"geo\": {\"bgcolor\": \"white\", \"lakecolor\": \"white\", \"landcolor\": \"#E5ECF6\", \"showlakes\": true, \"showland\": true, \"subunitcolor\": \"white\"}, \"hoverlabel\": {\"align\": \"left\"}, \"hovermode\": \"closest\", \"mapbox\": {\"style\": \"light\"}, \"paper_bgcolor\": \"white\", \"plot_bgcolor\": \"#E5ECF6\", \"polar\": {\"angularaxis\": {\"gridcolor\": \"white\", \"linecolor\": \"white\", \"ticks\": \"\"}, \"bgcolor\": \"#E5ECF6\", \"radialaxis\": {\"gridcolor\": \"white\", \"linecolor\": \"white\", \"ticks\": \"\"}}, \"scene\": {\"xaxis\": {\"backgroundcolor\": \"#E5ECF6\", \"gridcolor\": \"white\", \"gridwidth\": 2, \"linecolor\": \"white\", \"showbackground\": true, \"ticks\": \"\", \"zerolinecolor\": \"white\"}, \"yaxis\": {\"backgroundcolor\": \"#E5ECF6\", \"gridcolor\": \"white\", \"gridwidth\": 2, \"linecolor\": \"white\", \"showbackground\": true, \"ticks\": \"\", \"zerolinecolor\": \"white\"}, \"zaxis\": {\"backgroundcolor\": \"#E5ECF6\", \"gridcolor\": \"white\", \"gridwidth\": 2, \"linecolor\": \"white\", \"showbackground\": true, \"ticks\": \"\", \"zerolinecolor\": \"white\"}}, \"shapedefaults\": {\"line\": {\"color\": \"#2a3f5f\"}}, \"ternary\": {\"aaxis\": {\"gridcolor\": \"white\", \"linecolor\": \"white\", \"ticks\": \"\"}, \"baxis\": {\"gridcolor\": \"white\", \"linecolor\": \"white\", \"ticks\": \"\"}, \"bgcolor\": \"#E5ECF6\", \"caxis\": {\"gridcolor\": \"white\", \"linecolor\": \"white\", \"ticks\": \"\"}}, \"title\": {\"x\": 0.05}, \"xaxis\": {\"automargin\": true, \"gridcolor\": \"white\", \"linecolor\": \"white\", \"ticks\": \"\", \"title\": {\"standoff\": 15}, \"zerolinecolor\": \"white\", \"zerolinewidth\": 2}, \"yaxis\": {\"automargin\": true, \"gridcolor\": \"white\", \"linecolor\": \"white\", \"ticks\": \"\", \"title\": {\"standoff\": 15}, \"zerolinecolor\": \"white\", \"zerolinewidth\": 2}}}, \"title\": {\"font\": {\"color\": \"#4D5663\"}}, \"xaxis\": {\"gridcolor\": \"#E1E5ED\", \"showgrid\": true, \"tickfont\": {\"color\": \"#4D5663\"}, \"title\": {\"font\": {\"color\": \"#4D5663\"}, \"text\": \"\"}, \"zerolinecolor\": \"#E1E5ED\"}, \"yaxis\": {\"gridcolor\": \"#E1E5ED\", \"showgrid\": true, \"tickfont\": {\"color\": \"#4D5663\"}, \"title\": {\"font\": {\"color\": \"#4D5663\"}, \"text\": \"\"}, \"zerolinecolor\": \"#E1E5ED\"}},\n",
       "                        {\"showLink\": true, \"linkText\": \"Export to plot.ly\", \"plotlyServerURL\": \"https://plot.ly\", \"responsive\": true}\n",
       "                    ).then(function(){\n",
       "                            \n",
       "var gd = document.getElementById('6e085f0d-b6f3-48ec-a36f-2e30f6058298');\n",
       "var x = new MutationObserver(function (mutations, observer) {{\n",
       "        var display = window.getComputedStyle(gd).display;\n",
       "        if (!display || display === 'none') {{\n",
       "            console.log([gd, 'removed!']);\n",
       "            Plotly.purge(gd);\n",
       "            observer.disconnect();\n",
       "        }}\n",
       "}});\n",
       "\n",
       "// Listen for the removal of the full notebook cells\n",
       "var notebookContainer = gd.closest('#notebook-container');\n",
       "if (notebookContainer) {{\n",
       "    x.observe(notebookContainer, {childList: true});\n",
       "}}\n",
       "\n",
       "// Listen for the clearing of the current output cell\n",
       "var outputEl = gd.closest('.output');\n",
       "if (outputEl) {{\n",
       "    x.observe(outputEl, {childList: true});\n",
       "}}\n",
       "\n",
       "                        })\n",
       "                };\n",
       "                });\n",
       "            </script>\n",
       "        </div>"
      ]
     },
     "metadata": {},
     "output_type": "display_data"
    }
   ],
   "source": [
    "main(cat)"
   ]
  },
  {
   "cell_type": "code",
   "execution_count": null,
   "metadata": {},
   "outputs": [],
   "source": []
  }
 ],
 "metadata": {
  "kernelspec": {
   "display_name": "Python 3",
   "language": "python",
   "name": "python3"
  },
  "language_info": {
   "codemirror_mode": {
    "name": "ipython",
    "version": 3
   },
   "file_extension": ".py",
   "mimetype": "text/x-python",
   "name": "python",
   "nbconvert_exporter": "python",
   "pygments_lexer": "ipython3",
   "version": "3.7.6"
  }
 },
 "nbformat": 4,
 "nbformat_minor": 4
}
